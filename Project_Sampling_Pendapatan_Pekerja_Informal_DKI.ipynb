{
 "cells": [
  {
   "cell_type": "markdown",
   "id": "37db561d",
   "metadata": {},
   "source": [
    "# Sampling Tingkat Pendapatan Pekerja Informal di DKI Jakarta pada Tahun 2023"
   ]
  },
  {
   "cell_type": "markdown",
   "id": "a45569a1",
   "metadata": {},
   "source": [
    "**Penulis : Axel Ivanda Tanjung - PACMANN Batch 9**"
   ]
  },
  {
   "cell_type": "markdown",
   "id": "66fdd15d",
   "metadata": {},
   "source": [
    "![title](https://accurate.id/wp-content/uploads/2021/01/accurate.id-Pendapatan-perkapita-Pengertian-Fungsi-Komponen-dan-Cara-Menghitungnya.png)"
   ]
  },
  {
   "cell_type": "markdown",
   "id": "06bb5238",
   "metadata": {},
   "source": [
    "### A.\tIntroduction & Background"
   ]
  },
  {
   "cell_type": "markdown",
   "id": "2d377447",
   "metadata": {},
   "source": [
    "Gaji pekerja informal di Jakarta sering menjadi permasalahan karena mereka tidak memiliki hak dan perlindungan yang sama seperti pekerja formal. Beberapa masalah utama adalah sebagai berikut:\n",
    "1.\tGaji yang tidak memadai: Banyak pekerja informal di Jakarta yang tidak menerima gaji yang memadai dan tidak seimbang dengan jumlah jam kerja mereka. Mereka sering terpaksa bekerja lebih dari satu pekerjaan untuk memenuhi kebutuhan hidup mereka.\n",
    "2.\tTidak adanya jaminan sosial: Pekerja informal di Jakarta jarang memiliki akses untuk layanan jaminan sosial seperti asuransi kesehatan dan pensiun. Ini berarti bahwa mereka tidak memiliki jaminan bantuan jika mereka mengalami masalah kesehatan atau menjelang pensiun.\n",
    "3.\tTidak adanya hak pekerja: Pekerja informal sering kali tidak memiliki hak pekerja yang sama seperti pekerja formal, seperti cuti tahunan, waktu istirahat, dan hak untuk berkumpul dan berserikat.\n",
    "4.\tStabilitas kerja yang tidak terjamin: Pekerja informal di Jakarta sering kali tidak memiliki kontrak kerja dan tidak memiliki jaminan stabilita kerja. Ini berarti bahwa mereka bisa saja dipecat kapan saja tanpa alasan yang jelas.\n",
    "5.\tDiskriminasi: Banyak pekerja informal di Jakarta mengalami diskriminasi dan stigmatisasi dari masyarakat dan pemberi kerja karena status mereka sebagai pekerja informal.\n",
    "\n",
    "Berdasarkan hal tersebut, penulis akan melakukan perancangan sampling terhadap tingkat pendapatan pekerja informa DKI Jakarta pada tahun 2023 untuk selanjutnya akan di analisis oleh stakeholder terkait ketahanan kelompok pekerja tersebut menghadapi potensi krisis ekomomi kedepannya. Harapan yang dapat dicapai dari penelitian tersebut adalah didapatkan parameter polulasi untuk tingkat pendapatan berupa rata-rata (mean) dan sebaran (variance) yang nanti dapat digunakan untuk keperluan public policy."
   ]
  },
  {
   "cell_type": "markdown",
   "id": "b3592915",
   "metadata": {},
   "source": [
    "### B.\tImport Package"
   ]
  },
  {
   "cell_type": "code",
   "execution_count": 158,
   "id": "a009f25d",
   "metadata": {},
   "outputs": [],
   "source": [
    "# Load data manipulation package\n",
    "import numpy as np\n",
    "import pandas as pd\n",
    "import math\n",
    "import copy\n",
    "\n",
    "# Load data visualization package\n",
    "import matplotlib.pyplot as plt\n",
    "import seaborn as sns\n",
    "\n",
    "# Load statistic package\n",
    "from scipy import stats\n",
    "\n",
    "import "
   ]
  },
  {
   "cell_type": "markdown",
   "id": "58c21a36",
   "metadata": {},
   "source": [
    "### C.\tLoad Dataset"
   ]
  },
  {
   "cell_type": "code",
   "execution_count": 337,
   "id": "ab09d9d3",
   "metadata": {},
   "outputs": [],
   "source": [
    "# Load dataset\n",
    "prior_2021_rev = pd.read_csv('Pendapatan_2021_BPS.csv')\n",
    "prior_2021_percent = pd.read_csv('Informal_2021_BPS.csv')\n",
    "prior_2021_strata = pd.read_csv('Strata_Pendidikan_2021_BPS.csv')\n",
    "prior_2021_kota = pd.read_csv('Strata_Kota_2021_BPS.csv')\n",
    "prior_2021_kec = pd.read_csv('Strata_Kecamatan_2021_BPS.csv')"
   ]
  },
  {
   "cell_type": "markdown",
   "id": "01995c88",
   "metadata": {},
   "source": [
    "### D.\tCleansing Dataset"
   ]
  },
  {
   "cell_type": "code",
   "execution_count": 85,
   "id": "f799a02b",
   "metadata": {
    "scrolled": false
   },
   "outputs": [
    {
     "data": {
      "text/html": [
       "<div>\n",
       "<style scoped>\n",
       "    .dataframe tbody tr th:only-of-type {\n",
       "        vertical-align: middle;\n",
       "    }\n",
       "\n",
       "    .dataframe tbody tr th {\n",
       "        vertical-align: top;\n",
       "    }\n",
       "\n",
       "    .dataframe thead th {\n",
       "        text-align: right;\n",
       "    }\n",
       "</style>\n",
       "<table border=\"1\" class=\"dataframe\">\n",
       "  <thead>\n",
       "    <tr style=\"text-align: right;\">\n",
       "      <th></th>\n",
       "      <th>Kabupaten/Kota</th>\n",
       "      <th>Rata-rata</th>\n",
       "    </tr>\n",
       "  </thead>\n",
       "  <tbody>\n",
       "    <tr>\n",
       "      <th>0</th>\n",
       "      <td>Kepulauan Seribu</td>\n",
       "      <td>1938617.40</td>\n",
       "    </tr>\n",
       "    <tr>\n",
       "      <th>1</th>\n",
       "      <td>Jakarta Selatan</td>\n",
       "      <td>2575959.43</td>\n",
       "    </tr>\n",
       "    <tr>\n",
       "      <th>2</th>\n",
       "      <td>Jakarta Timur</td>\n",
       "      <td>2530202.31</td>\n",
       "    </tr>\n",
       "    <tr>\n",
       "      <th>3</th>\n",
       "      <td>Jakarta Pusat</td>\n",
       "      <td>2593224.37</td>\n",
       "    </tr>\n",
       "    <tr>\n",
       "      <th>4</th>\n",
       "      <td>Jakarta Barat</td>\n",
       "      <td>2711186.59</td>\n",
       "    </tr>\n",
       "    <tr>\n",
       "      <th>5</th>\n",
       "      <td>Jakarta Utara</td>\n",
       "      <td>2849107.24</td>\n",
       "    </tr>\n",
       "    <tr>\n",
       "      <th>6</th>\n",
       "      <td>DKI Jakarta</td>\n",
       "      <td>2647851.61</td>\n",
       "    </tr>\n",
       "  </tbody>\n",
       "</table>\n",
       "</div>"
      ],
      "text/plain": [
       "     Kabupaten/Kota   Rata-rata\n",
       "0  Kepulauan Seribu  1938617.40\n",
       "1   Jakarta Selatan  2575959.43\n",
       "2     Jakarta Timur  2530202.31\n",
       "3     Jakarta Pusat  2593224.37\n",
       "4     Jakarta Barat  2711186.59\n",
       "5     Jakarta Utara  2849107.24\n",
       "6       DKI Jakarta  2647851.61"
      ]
     },
     "execution_count": 85,
     "metadata": {},
     "output_type": "execute_result"
    }
   ],
   "source": [
    "#Cleasing dataset untuk kolom \"Rata-rata\"\n",
    "rev_kota_2021 = prior_2021_rev.loc[0:6,[\"Kabupaten/Kota\",\"Rata-rata\"]]\n",
    "rev_kota_2021[\"Rata-rata\"] = rev_kota_2021[\"Rata-rata\"].str.replace(\",\",\"\")\n",
    "rev_kota_2021[\"Rata-rata\"] = rev_kota_2021[\"Rata-rata\"].str.strip()\n",
    "rev_kota_2021[\"Rata-rata\"] = rev_kota_2021[\"Rata-rata\"].astype(float)\n",
    "rev_kota_2021"
   ]
  },
  {
   "cell_type": "markdown",
   "id": "47c0f655",
   "metadata": {},
   "source": [
    "### E.\tRancangan Sampling\n",
    "\n",
    "*•\tPopulasi*\n",
    "\n",
    "Populasi untuk penelitian ini terdiri dari beberapa tahapan diantaranya sebagai berikut\n",
    "-\tPopulasi tahap 1 : Seluruh kabupaten/kota di DKI Jakarta untuk masing-masing strata\n",
    "-\tPopulasi tahap 2 : Seluruh kecamatan di kabupaten/kota di DKI Jakarta\n",
    "-\tPopulasi tahap 3 : Seluruh pekerja informal di kecamatan di DKI Jakarta\n",
    "\n",
    "*•\tPopulasi target*\n",
    "\n",
    "Populasi target adalah seluruh populasi merupakan pekerja informal di DKI Jakarta\n",
    "\n",
    "*•\tKerangka sampel (sampling frame)*\n",
    "\n",
    "Untuk mendapatkan informasi dari populasi, penulis menggunakan data dari https://jakarta.bps.go.id/ berdasarkan Survey Angkatan Kerja Nasional (Sakernas) tahun 2021\n",
    "\n",
    "*•\tUnit sampling*\n",
    "\n",
    "Untuk penelitian terkait tingkat pendapatan pekerja informal, diambil sampel berdasarkan unit berikut:\n",
    "-\tUnit pertama : kabupaten/kota di DKI Jakarta untuk masing-masing strata\n",
    "-\tUnit kedua : kecamatan di kabupaten/kota di DKI Jakarta\n",
    "-\tUnit ketiga : pekerja informal di kecamatan di DKI Jakarta\n",
    "\n",
    "*•\tUnit observasi*\n",
    "\n",
    "Pada kasus ini, unit observasi adalah pekerja informal di DKI Jakarta karena objek tersebut yang akan di ambil data tingkat pendapatan bulanannya.\n",
    "\n",
    "*•\tUnit analisis*\n",
    "\n",
    "Karena kita ingin melihat tingkat pendapatan dari pekerja informal di DKI Jakarta, maka unit analisa digunakan pada tingkat unit pekerja informal\n",
    "\n",
    "*•\tKarakeristik yang diteliti*\n",
    "\n",
    "Karena karakeristik yang diteliti adalah tingkat pendapatan dari pekerja informal di DKI Jakarta. Maka karakter yang ingin diteliti adalah tingkat pendapatan\n",
    "\n",
    "*•\tNilai karakteristik yang diestimasi*\n",
    "\n",
    "Nilai karakteristik yang diestimasi adalah rata-rata pendapatan, proporsi pendapatan, dan total pendapatan\n",
    "\n",
    "*•\tMetode sampling*\n",
    "\n",
    "Metode sampling yang digunakan adalah gabungan dari stratifikasi, cluster sampling dan probability proportional to size atau biasa dikenal sebagai multistage sampling karena untuk mengakomodir strata tingkat pendapatan terhadap tingkat pendidikan diperlukan stratified sampling dan kabupaten/kota, sedangkan cluster sampling dilakukan untuk memilih cluster kecamatan mana yang akan digunakan dalam sampling. Selanjutnya dilakukan pengambilan sample dengan metode SRS.\n"
   ]
  },
  {
   "cell_type": "markdown",
   "id": "005a125b",
   "metadata": {},
   "source": [
    "### F.  Estimasi Kebutuhan Jumlah Sample"
   ]
  },
  {
   "cell_type": "markdown",
   "id": "b87db963",
   "metadata": {},
   "source": [
    "Secara garis besar, terdapat 4 tahapan dalam sampling ini **(Multistage Sampling)**"
   ]
  },
  {
   "cell_type": "markdown",
   "id": "85f2205b",
   "metadata": {},
   "source": [
    "a.\tTahap 1: Membagi populasi ke dalam 4 strata (Stratified Sampling Tahap 1)\n",
    "\n",
    "b.\tTahap 2 : Membagi populasi ke dalam 6 strata (Stratified Sampling Tahap 2)\n",
    "\n",
    "c.\tTahap 3 : Cluster sampling pada tahap 1 di masing-masing strata (Kecamatan)\n",
    "\n",
    "d.\tTahap 4 : Pengambilan sample dengan SRS"
   ]
  },
  {
   "cell_type": "markdown",
   "id": "4e1a6d68",
   "metadata": {},
   "source": [
    "#### Tahap 1: Membagi populasi ke dalam 4 strata (Stratified Sampling Tahap 1)"
   ]
  },
  {
   "cell_type": "markdown",
   "id": "52e15d01",
   "metadata": {},
   "source": [
    "Pembagian ini dilakukan dikarenakan asumsi awal bahwa terdapat perbedaan tingkat pendapatan berdasarkan tingkat pendidikannya. Sehingga populasi dibagi menjadi Tidak Pernah Sekolah / Tidak Lulus SD, SD/MI, SMP/MTs, dan SMA. Pesentase srata didapatkan dari data BPS DKI Jakarta."
   ]
  },
  {
   "cell_type": "markdown",
   "id": "f70712d2",
   "metadata": {},
   "source": [
    "Total biaya sampling didapatkan dari persamaan berikut\n",
    "\n",
    "$$\n",
    "C = c_{0} + c_{1}n + c_{2}nm\n",
    "$$"
   ]
  },
  {
   "cell_type": "code",
   "execution_count": 120,
   "id": "9685840f",
   "metadata": {},
   "outputs": [],
   "source": [
    "# Digunakan beberapa asumsi untuk pehitungan\n",
    "c0 = 5_000_000\n",
    "c1 = 100_000\n",
    "c2 = 100_000\n",
    "N = 6\n",
    "n_ = 6\n",
    "M = 1000\n",
    "nm = 1000"
   ]
  },
  {
   "cell_type": "markdown",
   "id": "12025421",
   "metadata": {},
   "source": [
    "\n",
    "$$\n",
    "m_{\\text{opt}} = \\sqrt{\n",
    "\\cfrac{c_{1} \\sigma_{w}^{2}}\n",
    "{c_{2} \\left( \\sigma_{b}^{2} - \\cfrac{\\sigma_{w}^{2}}{\\bar{M}} \\right)}\n",
    "}\n",
    "$$\n",
    "\n",
    "$$\n",
    "\\sigma_{b}^{2} = \\cfrac{1}{N-1} \\sum_{i=1}^{N} (\\mu_{i} - \\mu)^{2}\n",
    "$$\n",
    "\n",
    "$$\n",
    "\\sigma_{w}^{2} = \\cfrac{1}{N} \\sum_{i=1}^{N} \\sigma_{i}^{2}\n",
    "$$"
   ]
  },
  {
   "cell_type": "markdown",
   "id": "76bc393e",
   "metadata": {},
   "source": [
    "Kita dapat menghitung variansi dari tingkat pendapatan menggunakan prior information yang merupakan data dari BPS DKI Jakarta pada tahun 2021. Dengan data tersebut didapatkan nilai berikut:"
   ]
  },
  {
   "cell_type": "code",
   "execution_count": 89,
   "id": "0ab3d4c7",
   "metadata": {},
   "outputs": [],
   "source": [
    "# mencari nilai rata-rata pendapatan di DKI Jakarta\n",
    "rev_dki_2021 = rev_kota_2021.loc[6::,[\"Rata-rata\"]]\n",
    "rev_dki_2021 = rev_dki_2021[\"Rata-rata\"].values[0]"
   ]
  },
  {
   "cell_type": "code",
   "execution_count": 93,
   "id": "a065115e",
   "metadata": {},
   "outputs": [],
   "source": [
    "rev_kota_2021[\"Variance\"] = (rev_kota_2021[\"Rata-rata\"]-rev_dki_2021)**2"
   ]
  },
  {
   "cell_type": "code",
   "execution_count": 99,
   "id": "9af8b68c",
   "metadata": {
    "scrolled": false
   },
   "outputs": [
    {
     "data": {
      "text/html": [
       "<div>\n",
       "<style scoped>\n",
       "    .dataframe tbody tr th:only-of-type {\n",
       "        vertical-align: middle;\n",
       "    }\n",
       "\n",
       "    .dataframe tbody tr th {\n",
       "        vertical-align: top;\n",
       "    }\n",
       "\n",
       "    .dataframe thead th {\n",
       "        text-align: right;\n",
       "    }\n",
       "</style>\n",
       "<table border=\"1\" class=\"dataframe\">\n",
       "  <thead>\n",
       "    <tr style=\"text-align: right;\">\n",
       "      <th></th>\n",
       "      <th>Kabupaten/Kota</th>\n",
       "      <th>Rata-rata</th>\n",
       "      <th>Variance</th>\n",
       "    </tr>\n",
       "  </thead>\n",
       "  <tbody>\n",
       "    <tr>\n",
       "      <th>0</th>\n",
       "      <td>Kepulauan Seribu</td>\n",
       "      <td>1938617.40</td>\n",
       "      <td>5.030132e+11</td>\n",
       "    </tr>\n",
       "    <tr>\n",
       "      <th>1</th>\n",
       "      <td>Jakarta Selatan</td>\n",
       "      <td>2575959.43</td>\n",
       "      <td>5.168486e+09</td>\n",
       "    </tr>\n",
       "    <tr>\n",
       "      <th>2</th>\n",
       "      <td>Jakarta Timur</td>\n",
       "      <td>2530202.31</td>\n",
       "      <td>1.384136e+10</td>\n",
       "    </tr>\n",
       "    <tr>\n",
       "      <th>3</th>\n",
       "      <td>Jakarta Pusat</td>\n",
       "      <td>2593224.37</td>\n",
       "      <td>2.984135e+09</td>\n",
       "    </tr>\n",
       "    <tr>\n",
       "      <th>4</th>\n",
       "      <td>Jakarta Barat</td>\n",
       "      <td>2711186.59</td>\n",
       "      <td>4.011320e+09</td>\n",
       "    </tr>\n",
       "    <tr>\n",
       "      <th>5</th>\n",
       "      <td>Jakarta Utara</td>\n",
       "      <td>2849107.24</td>\n",
       "      <td>4.050383e+10</td>\n",
       "    </tr>\n",
       "    <tr>\n",
       "      <th>6</th>\n",
       "      <td>DKI Jakarta</td>\n",
       "      <td>2647851.61</td>\n",
       "      <td>0.000000e+00</td>\n",
       "    </tr>\n",
       "  </tbody>\n",
       "</table>\n",
       "</div>"
      ],
      "text/plain": [
       "     Kabupaten/Kota   Rata-rata      Variance\n",
       "0  Kepulauan Seribu  1938617.40  5.030132e+11\n",
       "1   Jakarta Selatan  2575959.43  5.168486e+09\n",
       "2     Jakarta Timur  2530202.31  1.384136e+10\n",
       "3     Jakarta Pusat  2593224.37  2.984135e+09\n",
       "4     Jakarta Barat  2711186.59  4.011320e+09\n",
       "5     Jakarta Utara  2849107.24  4.050383e+10\n",
       "6       DKI Jakarta  2647851.61  0.000000e+00"
      ]
     },
     "execution_count": 99,
     "metadata": {},
     "output_type": "execute_result"
    }
   ],
   "source": [
    "rev_kota_2021"
   ]
  },
  {
   "cell_type": "markdown",
   "id": "eedd031d",
   "metadata": {},
   "source": [
    "Selanjutnya dilakukan perhitungan untuk mencari σ_b^2 dan σ_w^2"
   ]
  },
  {
   "cell_type": "code",
   "execution_count": 110,
   "id": "aa9445e9",
   "metadata": {},
   "outputs": [
    {
     "name": "stdout",
     "output_type": "stream",
     "text": [
      "Nilai dai sigma_b^2 adalah 113904458323.65628\n",
      "Nilai dai sigma_w^2 adalah 94920381936.38022\n"
     ]
    }
   ],
   "source": [
    "# Mencari nilai dari sigma_b^2 dan  sigma_w^2\n",
    "sigma_b = (1/(N-1))*(rev_kota_2021[\"Variance\"].sum())\n",
    "sigma_w = (1/(N))*(rev_kota_2021[\"Variance\"].sum())\n",
    "print(\"Nilai dai sigma_b^2 adalah\", sigma_b)\n",
    "print(\"Nilai dai sigma_w^2 adalah\", sigma_w)"
   ]
  },
  {
   "cell_type": "markdown",
   "id": "bc609fa6",
   "metadata": {},
   "source": [
    "Asumsi untuk nilai c_o adalah Rp. 5.000.000 yang merupakan gaji untuk pegawai survey. Lalu di asumsikan nilai dari c_1dan c_2 untuk PSU dan SSU adalah Rp 100.000. Berdasarkan asumsi bahwa nilai M adalah 1.000 untuk data prior, maka didapatkan"
   ]
  },
  {
   "cell_type": "code",
   "execution_count": 118,
   "id": "d55959ff",
   "metadata": {},
   "outputs": [
    {
     "name": "stdout",
     "output_type": "stream",
     "text": [
      "Nilai dai m_opt adalah 0.913\n"
     ]
    }
   ],
   "source": [
    "# Mencari nilai dari m_opt\n",
    "m_opt = math.sqrt(c1*sigma_w/(c2*(sigma_b-(sigma_w/M))))\n",
    "print(\"Nilai dai m_opt adalah\", round(m_opt,3))"
   ]
  },
  {
   "cell_type": "markdown",
   "id": "e4ef58c2",
   "metadata": {},
   "source": [
    "Selanjutnya, dilakukan perhitungan untuk mendapatkan total allocation cost (C) dengan nilai PSU sebanyak 6 (N sesuai dengan jumlah kabupaten) dan asumsi jumlah SSU disample data prior adalah 1.000 (Tidak tercantum di data BPS) sehingga dapat dihitung sebagai berikut:"
   ]
  },
  {
   "cell_type": "code",
   "execution_count": 127,
   "id": "d3979d72",
   "metadata": {},
   "outputs": [
    {
     "name": "stdout",
     "output_type": "stream",
     "text": [
      "Nilai dai C adalah Rp. 105600000\n"
     ]
    }
   ],
   "source": [
    "# Menghitung nilai dari C\n",
    "C = c0 + c1*n_+c2*nm\n",
    "print(\"Nilai dai C adalah Rp.\",C)"
   ]
  },
  {
   "cell_type": "markdown",
   "id": "bc71e227",
   "metadata": {},
   "source": [
    "Dengan nilai C didapat, maka jumlah sampel yang dibutuhkan dapat dihitung menggunakan persamaan berikut:"
   ]
  },
  {
   "cell_type": "markdown",
   "id": "dfdcb6eb",
   "metadata": {},
   "source": [
    "$$\n",
    "n = \\cfrac{C - c_{0}}{c_{1} + c_{2} m_{\\text{opt}}}\n",
    "$$"
   ]
  },
  {
   "cell_type": "code",
   "execution_count": 152,
   "id": "241996a5",
   "metadata": {},
   "outputs": [
    {
     "name": "stdout",
     "output_type": "stream",
     "text": [
      "Total dari sample adalah 526\n"
     ]
    }
   ],
   "source": [
    "# Menghitung nilai n\n",
    "n = (C-c0)/(c1+c2*m_opt)\n",
    "n = math.ceil(n)\n",
    "print(\"Total dari sample adalah\", n)"
   ]
  },
  {
   "cell_type": "code",
   "execution_count": 170,
   "id": "7c68dc14",
   "metadata": {},
   "outputs": [],
   "source": [
    "# melakukan copy untuk strata sekolah\n",
    "df_2021_strata = copy.copy(prior_2021_strata)"
   ]
  },
  {
   "cell_type": "code",
   "execution_count": 172,
   "id": "f842c6a4",
   "metadata": {},
   "outputs": [],
   "source": [
    "df_2021_strata[\"Persentase (%)\"] = df_2021_strata[\"Persentase (%)\"]/100"
   ]
  },
  {
   "cell_type": "code",
   "execution_count": 175,
   "id": "b492d1d5",
   "metadata": {},
   "outputs": [],
   "source": [
    "# Membagi sample berdasarkan strata sekolah\n",
    "df_2021_strata[\"Total Sample\"] = round(df_2021_strata[\"Persentase (%)\"]*n,0)"
   ]
  },
  {
   "cell_type": "markdown",
   "id": "dad3a414",
   "metadata": {},
   "source": [
    "Total dari sample tersebut akan dibagi ke dalam strata pertama untuk kelompok tingkat Pendidikan menggunakan *proportional allocation* dan didapatkan jumlah sample sebagai berikut: "
   ]
  },
  {
   "cell_type": "code",
   "execution_count": 176,
   "id": "537042f2",
   "metadata": {
    "scrolled": false
   },
   "outputs": [
    {
     "data": {
      "text/html": [
       "<div>\n",
       "<style scoped>\n",
       "    .dataframe tbody tr th:only-of-type {\n",
       "        vertical-align: middle;\n",
       "    }\n",
       "\n",
       "    .dataframe tbody tr th {\n",
       "        vertical-align: top;\n",
       "    }\n",
       "\n",
       "    .dataframe thead th {\n",
       "        text-align: right;\n",
       "    }\n",
       "</style>\n",
       "<table border=\"1\" class=\"dataframe\">\n",
       "  <thead>\n",
       "    <tr style=\"text-align: right;\">\n",
       "      <th></th>\n",
       "      <th>No</th>\n",
       "      <th>Strata Pendidikan</th>\n",
       "      <th>Persentase (%)</th>\n",
       "      <th>Total Sample</th>\n",
       "    </tr>\n",
       "  </thead>\n",
       "  <tbody>\n",
       "    <tr>\n",
       "      <th>0</th>\n",
       "      <td>1</td>\n",
       "      <td>Tidak Sekolah</td>\n",
       "      <td>0.1074</td>\n",
       "      <td>56.0</td>\n",
       "    </tr>\n",
       "    <tr>\n",
       "      <th>1</th>\n",
       "      <td>2</td>\n",
       "      <td>SD / MI</td>\n",
       "      <td>0.1334</td>\n",
       "      <td>70.0</td>\n",
       "    </tr>\n",
       "    <tr>\n",
       "      <th>2</th>\n",
       "      <td>3</td>\n",
       "      <td>SMP / Mts</td>\n",
       "      <td>0.0603</td>\n",
       "      <td>32.0</td>\n",
       "    </tr>\n",
       "    <tr>\n",
       "      <th>3</th>\n",
       "      <td>4</td>\n",
       "      <td>SMA ke Atas</td>\n",
       "      <td>0.6989</td>\n",
       "      <td>368.0</td>\n",
       "    </tr>\n",
       "  </tbody>\n",
       "</table>\n",
       "</div>"
      ],
      "text/plain": [
       "   No Strata Pendidikan  Persentase (%)  Total Sample\n",
       "0   1     Tidak Sekolah          0.1074          56.0\n",
       "1   2           SD / MI          0.1334          70.0\n",
       "2   3         SMP / Mts          0.0603          32.0\n",
       "3   4       SMA ke Atas          0.6989         368.0"
      ]
     },
     "execution_count": 176,
     "metadata": {},
     "output_type": "execute_result"
    }
   ],
   "source": [
    "df_2021_strata"
   ]
  },
  {
   "cell_type": "markdown",
   "id": "1a9527a2",
   "metadata": {},
   "source": [
    "#### Tahap 2 : Membagi populasi ke dalam 6 strata (Stratified Sampling Tahap 2)"
   ]
  },
  {
   "cell_type": "markdown",
   "id": "769ad051",
   "metadata": {},
   "source": [
    "Pembagian ini dilakukan dikarenakan asumsi awal bahwa terdapat perbedaan tingkat pendapatan berdasarkan kabupaten/kota. Sehingga populasi dibagi menjadi Kepulauan Seribu, Jakata Selatan, Jakarta Timur, Jakarta Pusat, Jakarta Barat, dan Jakarta Utara. Jumlah sampel yang akan digunakan menggunakan *proportional allocation*"
   ]
  },
  {
   "cell_type": "code",
   "execution_count": 178,
   "id": "1fa177f8",
   "metadata": {},
   "outputs": [
    {
     "data": {
      "text/html": [
       "<div>\n",
       "<style scoped>\n",
       "    .dataframe tbody tr th:only-of-type {\n",
       "        vertical-align: middle;\n",
       "    }\n",
       "\n",
       "    .dataframe tbody tr th {\n",
       "        vertical-align: top;\n",
       "    }\n",
       "\n",
       "    .dataframe thead th {\n",
       "        text-align: right;\n",
       "    }\n",
       "</style>\n",
       "<table border=\"1\" class=\"dataframe\">\n",
       "  <thead>\n",
       "    <tr style=\"text-align: right;\">\n",
       "      <th></th>\n",
       "      <th>Kabupaten/Kota</th>\n",
       "      <th>Presentase</th>\n",
       "    </tr>\n",
       "  </thead>\n",
       "  <tbody>\n",
       "    <tr>\n",
       "      <th>0</th>\n",
       "      <td>Kepulauan Seribu</td>\n",
       "      <td>0.27</td>\n",
       "    </tr>\n",
       "    <tr>\n",
       "      <th>1</th>\n",
       "      <td>Jakarta Selatan</td>\n",
       "      <td>21.05</td>\n",
       "    </tr>\n",
       "    <tr>\n",
       "      <th>2</th>\n",
       "      <td>Jakarta Timur</td>\n",
       "      <td>28.81</td>\n",
       "    </tr>\n",
       "    <tr>\n",
       "      <th>3</th>\n",
       "      <td>Jakarta Pusat</td>\n",
       "      <td>10.05</td>\n",
       "    </tr>\n",
       "    <tr>\n",
       "      <th>4</th>\n",
       "      <td>Jakarta Barat</td>\n",
       "      <td>23.00</td>\n",
       "    </tr>\n",
       "    <tr>\n",
       "      <th>5</th>\n",
       "      <td>Jakarta Utara</td>\n",
       "      <td>16.82</td>\n",
       "    </tr>\n",
       "    <tr>\n",
       "      <th>6</th>\n",
       "      <td>DKI Jakarta</td>\n",
       "      <td>100.00</td>\n",
       "    </tr>\n",
       "  </tbody>\n",
       "</table>\n",
       "</div>"
      ],
      "text/plain": [
       "     Kabupaten/Kota  Presentase\n",
       "0  Kepulauan Seribu        0.27\n",
       "1   Jakarta Selatan       21.05\n",
       "2     Jakarta Timur       28.81\n",
       "3     Jakarta Pusat       10.05\n",
       "4     Jakarta Barat       23.00\n",
       "5     Jakarta Utara       16.82\n",
       "6       DKI Jakarta      100.00"
      ]
     },
     "execution_count": 178,
     "metadata": {},
     "output_type": "execute_result"
    }
   ],
   "source": [
    "prior_2021_kota"
   ]
  },
  {
   "cell_type": "code",
   "execution_count": 208,
   "id": "ac59ccba",
   "metadata": {},
   "outputs": [],
   "source": [
    "tingkat_pendidikan = df_2021_strata[\"Strata Pendidikan\"].values.tolist()\n",
    "kota_dki = prior_2021_kota[\"Kabupaten/Kota\"].values.tolist()"
   ]
  },
  {
   "cell_type": "code",
   "execution_count": 226,
   "id": "495b34f8",
   "metadata": {
    "scrolled": false
   },
   "outputs": [
    {
     "data": {
      "text/html": [
       "<div>\n",
       "<style scoped>\n",
       "    .dataframe tbody tr th:only-of-type {\n",
       "        vertical-align: middle;\n",
       "    }\n",
       "\n",
       "    .dataframe tbody tr th {\n",
       "        vertical-align: top;\n",
       "    }\n",
       "\n",
       "    .dataframe thead th {\n",
       "        text-align: right;\n",
       "    }\n",
       "</style>\n",
       "<table border=\"1\" class=\"dataframe\">\n",
       "  <thead>\n",
       "    <tr style=\"text-align: right;\">\n",
       "      <th></th>\n",
       "      <th>Strata Pendidikan</th>\n",
       "      <th>Kabupaten/Kota</th>\n",
       "    </tr>\n",
       "  </thead>\n",
       "  <tbody>\n",
       "    <tr>\n",
       "      <th>0</th>\n",
       "      <td>Tidak Sekolah</td>\n",
       "      <td>Kepulauan Seribu</td>\n",
       "    </tr>\n",
       "    <tr>\n",
       "      <th>1</th>\n",
       "      <td>Tidak Sekolah</td>\n",
       "      <td>Jakarta Selatan</td>\n",
       "    </tr>\n",
       "    <tr>\n",
       "      <th>2</th>\n",
       "      <td>Tidak Sekolah</td>\n",
       "      <td>Jakarta Timur</td>\n",
       "    </tr>\n",
       "    <tr>\n",
       "      <th>3</th>\n",
       "      <td>Tidak Sekolah</td>\n",
       "      <td>Jakarta Pusat</td>\n",
       "    </tr>\n",
       "    <tr>\n",
       "      <th>4</th>\n",
       "      <td>Tidak Sekolah</td>\n",
       "      <td>Jakarta Barat</td>\n",
       "    </tr>\n",
       "    <tr>\n",
       "      <th>5</th>\n",
       "      <td>Tidak Sekolah</td>\n",
       "      <td>Jakarta Utara</td>\n",
       "    </tr>\n",
       "    <tr>\n",
       "      <th>6</th>\n",
       "      <td>SD / MI</td>\n",
       "      <td>Kepulauan Seribu</td>\n",
       "    </tr>\n",
       "    <tr>\n",
       "      <th>7</th>\n",
       "      <td>SD / MI</td>\n",
       "      <td>Jakarta Selatan</td>\n",
       "    </tr>\n",
       "    <tr>\n",
       "      <th>8</th>\n",
       "      <td>SD / MI</td>\n",
       "      <td>Jakarta Timur</td>\n",
       "    </tr>\n",
       "    <tr>\n",
       "      <th>9</th>\n",
       "      <td>SD / MI</td>\n",
       "      <td>Jakarta Pusat</td>\n",
       "    </tr>\n",
       "    <tr>\n",
       "      <th>10</th>\n",
       "      <td>SD / MI</td>\n",
       "      <td>Jakarta Barat</td>\n",
       "    </tr>\n",
       "    <tr>\n",
       "      <th>11</th>\n",
       "      <td>SD / MI</td>\n",
       "      <td>Jakarta Utara</td>\n",
       "    </tr>\n",
       "    <tr>\n",
       "      <th>12</th>\n",
       "      <td>SMP / Mts</td>\n",
       "      <td>Kepulauan Seribu</td>\n",
       "    </tr>\n",
       "    <tr>\n",
       "      <th>13</th>\n",
       "      <td>SMP / Mts</td>\n",
       "      <td>Jakarta Selatan</td>\n",
       "    </tr>\n",
       "    <tr>\n",
       "      <th>14</th>\n",
       "      <td>SMP / Mts</td>\n",
       "      <td>Jakarta Timur</td>\n",
       "    </tr>\n",
       "    <tr>\n",
       "      <th>15</th>\n",
       "      <td>SMP / Mts</td>\n",
       "      <td>Jakarta Pusat</td>\n",
       "    </tr>\n",
       "    <tr>\n",
       "      <th>16</th>\n",
       "      <td>SMP / Mts</td>\n",
       "      <td>Jakarta Barat</td>\n",
       "    </tr>\n",
       "    <tr>\n",
       "      <th>17</th>\n",
       "      <td>SMP / Mts</td>\n",
       "      <td>Jakarta Utara</td>\n",
       "    </tr>\n",
       "    <tr>\n",
       "      <th>18</th>\n",
       "      <td>SMA ke Atas</td>\n",
       "      <td>Kepulauan Seribu</td>\n",
       "    </tr>\n",
       "    <tr>\n",
       "      <th>19</th>\n",
       "      <td>SMA ke Atas</td>\n",
       "      <td>Jakarta Selatan</td>\n",
       "    </tr>\n",
       "    <tr>\n",
       "      <th>20</th>\n",
       "      <td>SMA ke Atas</td>\n",
       "      <td>Jakarta Timur</td>\n",
       "    </tr>\n",
       "    <tr>\n",
       "      <th>21</th>\n",
       "      <td>SMA ke Atas</td>\n",
       "      <td>Jakarta Pusat</td>\n",
       "    </tr>\n",
       "    <tr>\n",
       "      <th>22</th>\n",
       "      <td>SMA ke Atas</td>\n",
       "      <td>Jakarta Barat</td>\n",
       "    </tr>\n",
       "    <tr>\n",
       "      <th>23</th>\n",
       "      <td>SMA ke Atas</td>\n",
       "      <td>Jakarta Utara</td>\n",
       "    </tr>\n",
       "  </tbody>\n",
       "</table>\n",
       "</div>"
      ],
      "text/plain": [
       "   Strata Pendidikan    Kabupaten/Kota\n",
       "0      Tidak Sekolah  Kepulauan Seribu\n",
       "1      Tidak Sekolah   Jakarta Selatan\n",
       "2      Tidak Sekolah     Jakarta Timur\n",
       "3      Tidak Sekolah     Jakarta Pusat\n",
       "4      Tidak Sekolah     Jakarta Barat\n",
       "5      Tidak Sekolah     Jakarta Utara\n",
       "6            SD / MI  Kepulauan Seribu\n",
       "7            SD / MI   Jakarta Selatan\n",
       "8            SD / MI     Jakarta Timur\n",
       "9            SD / MI     Jakarta Pusat\n",
       "10           SD / MI     Jakarta Barat\n",
       "11           SD / MI     Jakarta Utara\n",
       "12         SMP / Mts  Kepulauan Seribu\n",
       "13         SMP / Mts   Jakarta Selatan\n",
       "14         SMP / Mts     Jakarta Timur\n",
       "15         SMP / Mts     Jakarta Pusat\n",
       "16         SMP / Mts     Jakarta Barat\n",
       "17         SMP / Mts     Jakarta Utara\n",
       "18       SMA ke Atas  Kepulauan Seribu\n",
       "19       SMA ke Atas   Jakarta Selatan\n",
       "20       SMA ke Atas     Jakarta Timur\n",
       "21       SMA ke Atas     Jakarta Pusat\n",
       "22       SMA ke Atas     Jakarta Barat\n",
       "23       SMA ke Atas     Jakarta Utara"
      ]
     },
     "execution_count": 226,
     "metadata": {},
     "output_type": "execute_result"
    }
   ],
   "source": [
    "rancang_sampling = pd.DataFrame({'Strata Pendidikan' : ['Tidak Sekolah','Tidak Sekolah','Tidak Sekolah','Tidak Sekolah','Tidak Sekolah','Tidak Sekolah',\n",
    "                                                        'SD / MI','SD / MI','SD / MI','SD / MI','SD / MI','SD / MI',\n",
    "                                                        'SMP / Mts','SMP / Mts','SMP / Mts','SMP / Mts','SMP / Mts','SMP / Mts',\n",
    "                                                        'SMA ke Atas','SMA ke Atas','SMA ke Atas','SMA ke Atas','SMA ke Atas','SMA ke Atas'],\n",
    "                                 'Kabupaten/Kota' : ['Kepulauan Seribu','Jakarta Selatan', 'Jakarta Timur', 'Jakarta Pusat', 'Jakarta Barat', 'Jakarta Utara',\n",
    "                                                     'Kepulauan Seribu','Jakarta Selatan', 'Jakarta Timur', 'Jakarta Pusat', 'Jakarta Barat', 'Jakarta Utara',\n",
    "                                                     'Kepulauan Seribu','Jakarta Selatan', 'Jakarta Timur', 'Jakarta Pusat', 'Jakarta Barat', 'Jakarta Utara',\n",
    "                                                     'Kepulauan Seribu','Jakarta Selatan', 'Jakarta Timur', 'Jakarta Pusat', 'Jakarta Barat', 'Jakarta Utara',]})"
   ]
  },
  {
   "cell_type": "code",
   "execution_count": 264,
   "id": "5fccff38",
   "metadata": {},
   "outputs": [],
   "source": [
    "rancang_sampling[\"Total Sample\"] = round((prior_2021_kota[\"Presentase\"].iloc[0:6]/100)*df_2021_strata[\"Total Sample\"][0])"
   ]
  },
  {
   "cell_type": "code",
   "execution_count": 265,
   "id": "0cf58573",
   "metadata": {},
   "outputs": [
    {
     "name": "stderr",
     "output_type": "stream",
     "text": [
      "C:\\Users\\Axel\\AppData\\Local\\Temp/ipykernel_12568/1886524931.py:1: SettingWithCopyWarning: \n",
      "A value is trying to be set on a copy of a slice from a DataFrame\n",
      "\n",
      "See the caveats in the documentation: https://pandas.pydata.org/pandas-docs/stable/user_guide/indexing.html#returning-a-view-versus-a-copy\n",
      "  rancang_sampling[\"Total Sample\"].iloc[6:12] = round((prior_2021_kota[\"Presentase\"].iloc[0:6]/100)*df_2021_strata[\"Total Sample\"][1])\n"
     ]
    }
   ],
   "source": [
    "rancang_sampling[\"Total Sample\"].iloc[6:12] = round((prior_2021_kota[\"Presentase\"].iloc[0:6]/100)*df_2021_strata[\"Total Sample\"][1])"
   ]
  },
  {
   "cell_type": "code",
   "execution_count": 266,
   "id": "bd2f6ea5",
   "metadata": {
    "scrolled": false
   },
   "outputs": [
    {
     "name": "stderr",
     "output_type": "stream",
     "text": [
      "C:\\Users\\Axel\\AppData\\Local\\Temp/ipykernel_12568/31342900.py:1: SettingWithCopyWarning: \n",
      "A value is trying to be set on a copy of a slice from a DataFrame\n",
      "\n",
      "See the caveats in the documentation: https://pandas.pydata.org/pandas-docs/stable/user_guide/indexing.html#returning-a-view-versus-a-copy\n",
      "  rancang_sampling[\"Total Sample\"].iloc[12:18] = round((prior_2021_kota[\"Presentase\"].iloc[0:6]/100)*df_2021_strata[\"Total Sample\"][2])\n"
     ]
    }
   ],
   "source": [
    "rancang_sampling[\"Total Sample\"].iloc[12:18] = round((prior_2021_kota[\"Presentase\"].iloc[0:6]/100)*df_2021_strata[\"Total Sample\"][2])"
   ]
  },
  {
   "cell_type": "code",
   "execution_count": 267,
   "id": "acef05b3",
   "metadata": {},
   "outputs": [
    {
     "name": "stderr",
     "output_type": "stream",
     "text": [
      "C:\\Users\\Axel\\AppData\\Local\\Temp/ipykernel_12568/1797551352.py:1: SettingWithCopyWarning: \n",
      "A value is trying to be set on a copy of a slice from a DataFrame\n",
      "\n",
      "See the caveats in the documentation: https://pandas.pydata.org/pandas-docs/stable/user_guide/indexing.html#returning-a-view-versus-a-copy\n",
      "  rancang_sampling[\"Total Sample\"].iloc[18:24] = round((prior_2021_kota[\"Presentase\"].iloc[0:6]/100)*df_2021_strata[\"Total Sample\"][3])\n"
     ]
    }
   ],
   "source": [
    "rancang_sampling[\"Total Sample\"].iloc[18:24] = round((prior_2021_kota[\"Presentase\"].iloc[0:6]/100)*df_2021_strata[\"Total Sample\"][3])"
   ]
  },
  {
   "cell_type": "code",
   "execution_count": 271,
   "id": "66243c96",
   "metadata": {
    "scrolled": false
   },
   "outputs": [
    {
     "name": "stderr",
     "output_type": "stream",
     "text": [
      "C:\\Users\\Axel\\AppData\\Local\\Temp/ipykernel_12568/3087333554.py:2: SettingWithCopyWarning: \n",
      "A value is trying to be set on a copy of a slice from a DataFrame\n",
      "\n",
      "See the caveats in the documentation: https://pandas.pydata.org/pandas-docs/stable/user_guide/indexing.html#returning-a-view-versus-a-copy\n",
      "  rancang_sampling[\"Total Sample\"][0] = 1\n",
      "C:\\Users\\Axel\\AppData\\Local\\Temp/ipykernel_12568/3087333554.py:3: SettingWithCopyWarning: \n",
      "A value is trying to be set on a copy of a slice from a DataFrame\n",
      "\n",
      "See the caveats in the documentation: https://pandas.pydata.org/pandas-docs/stable/user_guide/indexing.html#returning-a-view-versus-a-copy\n",
      "  rancang_sampling[\"Total Sample\"][3] = 5\n",
      "C:\\Users\\Axel\\AppData\\Local\\Temp/ipykernel_12568/3087333554.py:4: SettingWithCopyWarning: \n",
      "A value is trying to be set on a copy of a slice from a DataFrame\n",
      "\n",
      "See the caveats in the documentation: https://pandas.pydata.org/pandas-docs/stable/user_guide/indexing.html#returning-a-view-versus-a-copy\n",
      "  rancang_sampling[\"Total Sample\"][6] = 1\n",
      "C:\\Users\\Axel\\AppData\\Local\\Temp/ipykernel_12568/3087333554.py:5: SettingWithCopyWarning: \n",
      "A value is trying to be set on a copy of a slice from a DataFrame\n",
      "\n",
      "See the caveats in the documentation: https://pandas.pydata.org/pandas-docs/stable/user_guide/indexing.html#returning-a-view-versus-a-copy\n",
      "  rancang_sampling[\"Total Sample\"][12] = 1\n",
      "C:\\Users\\Axel\\AppData\\Local\\Temp/ipykernel_12568/3087333554.py:6: SettingWithCopyWarning: \n",
      "A value is trying to be set on a copy of a slice from a DataFrame\n",
      "\n",
      "See the caveats in the documentation: https://pandas.pydata.org/pandas-docs/stable/user_guide/indexing.html#returning-a-view-versus-a-copy\n",
      "  rancang_sampling[\"Total Sample\"][13] = 6\n"
     ]
    }
   ],
   "source": [
    "#melakukan penyesuaian total sample (pembulatan dan akibat Kep. Seribu bernilai 0)\n",
    "rancang_sampling[\"Total Sample\"][0] = 1 \n",
    "rancang_sampling[\"Total Sample\"][3] = 5 \n",
    "rancang_sampling[\"Total Sample\"][6] = 1 \n",
    "rancang_sampling[\"Total Sample\"][12] = 1\n",
    "rancang_sampling[\"Total Sample\"][13] = 6"
   ]
  },
  {
   "cell_type": "markdown",
   "id": "f743e325",
   "metadata": {},
   "source": [
    "Selanjutnya, nilai dari sample dihitung berdasarkan strata ratio yang tertera pada kondisi diatas sehingga didapatkan masing-masing sebagai berikut:"
   ]
  },
  {
   "cell_type": "code",
   "execution_count": 272,
   "id": "8cb36548",
   "metadata": {
    "scrolled": true
   },
   "outputs": [
    {
     "data": {
      "text/html": [
       "<div>\n",
       "<style scoped>\n",
       "    .dataframe tbody tr th:only-of-type {\n",
       "        vertical-align: middle;\n",
       "    }\n",
       "\n",
       "    .dataframe tbody tr th {\n",
       "        vertical-align: top;\n",
       "    }\n",
       "\n",
       "    .dataframe thead th {\n",
       "        text-align: right;\n",
       "    }\n",
       "</style>\n",
       "<table border=\"1\" class=\"dataframe\">\n",
       "  <thead>\n",
       "    <tr style=\"text-align: right;\">\n",
       "      <th></th>\n",
       "      <th>Strata Pendidikan</th>\n",
       "      <th>Kabupaten/Kota</th>\n",
       "      <th>Total Sample</th>\n",
       "    </tr>\n",
       "  </thead>\n",
       "  <tbody>\n",
       "    <tr>\n",
       "      <th>0</th>\n",
       "      <td>Tidak Sekolah</td>\n",
       "      <td>Kepulauan Seribu</td>\n",
       "      <td>1.0</td>\n",
       "    </tr>\n",
       "    <tr>\n",
       "      <th>1</th>\n",
       "      <td>Tidak Sekolah</td>\n",
       "      <td>Jakarta Selatan</td>\n",
       "      <td>12.0</td>\n",
       "    </tr>\n",
       "    <tr>\n",
       "      <th>2</th>\n",
       "      <td>Tidak Sekolah</td>\n",
       "      <td>Jakarta Timur</td>\n",
       "      <td>16.0</td>\n",
       "    </tr>\n",
       "    <tr>\n",
       "      <th>3</th>\n",
       "      <td>Tidak Sekolah</td>\n",
       "      <td>Jakarta Pusat</td>\n",
       "      <td>5.0</td>\n",
       "    </tr>\n",
       "    <tr>\n",
       "      <th>4</th>\n",
       "      <td>Tidak Sekolah</td>\n",
       "      <td>Jakarta Barat</td>\n",
       "      <td>13.0</td>\n",
       "    </tr>\n",
       "    <tr>\n",
       "      <th>5</th>\n",
       "      <td>Tidak Sekolah</td>\n",
       "      <td>Jakarta Utara</td>\n",
       "      <td>9.0</td>\n",
       "    </tr>\n",
       "    <tr>\n",
       "      <th>6</th>\n",
       "      <td>SD / MI</td>\n",
       "      <td>Kepulauan Seribu</td>\n",
       "      <td>1.0</td>\n",
       "    </tr>\n",
       "    <tr>\n",
       "      <th>7</th>\n",
       "      <td>SD / MI</td>\n",
       "      <td>Jakarta Selatan</td>\n",
       "      <td>15.0</td>\n",
       "    </tr>\n",
       "    <tr>\n",
       "      <th>8</th>\n",
       "      <td>SD / MI</td>\n",
       "      <td>Jakarta Timur</td>\n",
       "      <td>20.0</td>\n",
       "    </tr>\n",
       "    <tr>\n",
       "      <th>9</th>\n",
       "      <td>SD / MI</td>\n",
       "      <td>Jakarta Pusat</td>\n",
       "      <td>7.0</td>\n",
       "    </tr>\n",
       "    <tr>\n",
       "      <th>10</th>\n",
       "      <td>SD / MI</td>\n",
       "      <td>Jakarta Barat</td>\n",
       "      <td>16.0</td>\n",
       "    </tr>\n",
       "    <tr>\n",
       "      <th>11</th>\n",
       "      <td>SD / MI</td>\n",
       "      <td>Jakarta Utara</td>\n",
       "      <td>12.0</td>\n",
       "    </tr>\n",
       "    <tr>\n",
       "      <th>12</th>\n",
       "      <td>SMP / Mts</td>\n",
       "      <td>Kepulauan Seribu</td>\n",
       "      <td>1.0</td>\n",
       "    </tr>\n",
       "    <tr>\n",
       "      <th>13</th>\n",
       "      <td>SMP / Mts</td>\n",
       "      <td>Jakarta Selatan</td>\n",
       "      <td>6.0</td>\n",
       "    </tr>\n",
       "    <tr>\n",
       "      <th>14</th>\n",
       "      <td>SMP / Mts</td>\n",
       "      <td>Jakarta Timur</td>\n",
       "      <td>9.0</td>\n",
       "    </tr>\n",
       "    <tr>\n",
       "      <th>15</th>\n",
       "      <td>SMP / Mts</td>\n",
       "      <td>Jakarta Pusat</td>\n",
       "      <td>3.0</td>\n",
       "    </tr>\n",
       "    <tr>\n",
       "      <th>16</th>\n",
       "      <td>SMP / Mts</td>\n",
       "      <td>Jakarta Barat</td>\n",
       "      <td>7.0</td>\n",
       "    </tr>\n",
       "    <tr>\n",
       "      <th>17</th>\n",
       "      <td>SMP / Mts</td>\n",
       "      <td>Jakarta Utara</td>\n",
       "      <td>5.0</td>\n",
       "    </tr>\n",
       "    <tr>\n",
       "      <th>18</th>\n",
       "      <td>SMA ke Atas</td>\n",
       "      <td>Kepulauan Seribu</td>\n",
       "      <td>1.0</td>\n",
       "    </tr>\n",
       "    <tr>\n",
       "      <th>19</th>\n",
       "      <td>SMA ke Atas</td>\n",
       "      <td>Jakarta Selatan</td>\n",
       "      <td>77.0</td>\n",
       "    </tr>\n",
       "    <tr>\n",
       "      <th>20</th>\n",
       "      <td>SMA ke Atas</td>\n",
       "      <td>Jakarta Timur</td>\n",
       "      <td>106.0</td>\n",
       "    </tr>\n",
       "    <tr>\n",
       "      <th>21</th>\n",
       "      <td>SMA ke Atas</td>\n",
       "      <td>Jakarta Pusat</td>\n",
       "      <td>37.0</td>\n",
       "    </tr>\n",
       "    <tr>\n",
       "      <th>22</th>\n",
       "      <td>SMA ke Atas</td>\n",
       "      <td>Jakarta Barat</td>\n",
       "      <td>85.0</td>\n",
       "    </tr>\n",
       "    <tr>\n",
       "      <th>23</th>\n",
       "      <td>SMA ke Atas</td>\n",
       "      <td>Jakarta Utara</td>\n",
       "      <td>62.0</td>\n",
       "    </tr>\n",
       "  </tbody>\n",
       "</table>\n",
       "</div>"
      ],
      "text/plain": [
       "   Strata Pendidikan    Kabupaten/Kota  Total Sample\n",
       "0      Tidak Sekolah  Kepulauan Seribu           1.0\n",
       "1      Tidak Sekolah   Jakarta Selatan          12.0\n",
       "2      Tidak Sekolah     Jakarta Timur          16.0\n",
       "3      Tidak Sekolah     Jakarta Pusat           5.0\n",
       "4      Tidak Sekolah     Jakarta Barat          13.0\n",
       "5      Tidak Sekolah     Jakarta Utara           9.0\n",
       "6            SD / MI  Kepulauan Seribu           1.0\n",
       "7            SD / MI   Jakarta Selatan          15.0\n",
       "8            SD / MI     Jakarta Timur          20.0\n",
       "9            SD / MI     Jakarta Pusat           7.0\n",
       "10           SD / MI     Jakarta Barat          16.0\n",
       "11           SD / MI     Jakarta Utara          12.0\n",
       "12         SMP / Mts  Kepulauan Seribu           1.0\n",
       "13         SMP / Mts   Jakarta Selatan           6.0\n",
       "14         SMP / Mts     Jakarta Timur           9.0\n",
       "15         SMP / Mts     Jakarta Pusat           3.0\n",
       "16         SMP / Mts     Jakarta Barat           7.0\n",
       "17         SMP / Mts     Jakarta Utara           5.0\n",
       "18       SMA ke Atas  Kepulauan Seribu           1.0\n",
       "19       SMA ke Atas   Jakarta Selatan          77.0\n",
       "20       SMA ke Atas     Jakarta Timur         106.0\n",
       "21       SMA ke Atas     Jakarta Pusat          37.0\n",
       "22       SMA ke Atas     Jakarta Barat          85.0\n",
       "23       SMA ke Atas     Jakarta Utara          62.0"
      ]
     },
     "execution_count": 272,
     "metadata": {},
     "output_type": "execute_result"
    }
   ],
   "source": [
    "rancang_sampling"
   ]
  },
  {
   "cell_type": "markdown",
   "id": "b4bcf4ed",
   "metadata": {},
   "source": [
    "#### Tahap 3 : Cluster sampling pada tahap 1 di masing-masing strata (Kecamatan)"
   ]
  },
  {
   "cell_type": "markdown",
   "id": "cea690e0",
   "metadata": {},
   "source": [
    "Pembagian jumlah cluster kecamatan yang digunakan untuk sampling dihitung menggunakan perhitungan rancang design cluster sampling."
   ]
  },
  {
   "cell_type": "code",
   "execution_count": 278,
   "id": "6f671ffd",
   "metadata": {},
   "outputs": [
    {
     "data": {
      "text/html": [
       "<div>\n",
       "<style scoped>\n",
       "    .dataframe tbody tr th:only-of-type {\n",
       "        vertical-align: middle;\n",
       "    }\n",
       "\n",
       "    .dataframe tbody tr th {\n",
       "        vertical-align: top;\n",
       "    }\n",
       "\n",
       "    .dataframe thead th {\n",
       "        text-align: right;\n",
       "    }\n",
       "</style>\n",
       "<table border=\"1\" class=\"dataframe\">\n",
       "  <thead>\n",
       "    <tr style=\"text-align: right;\">\n",
       "      <th></th>\n",
       "      <th>Total Sample</th>\n",
       "    </tr>\n",
       "    <tr>\n",
       "      <th>Kabupaten/Kota</th>\n",
       "      <th></th>\n",
       "    </tr>\n",
       "  </thead>\n",
       "  <tbody>\n",
       "    <tr>\n",
       "      <th>Jakarta Barat</th>\n",
       "      <td>121.0</td>\n",
       "    </tr>\n",
       "    <tr>\n",
       "      <th>Jakarta Pusat</th>\n",
       "      <td>52.0</td>\n",
       "    </tr>\n",
       "    <tr>\n",
       "      <th>Jakarta Selatan</th>\n",
       "      <td>110.0</td>\n",
       "    </tr>\n",
       "    <tr>\n",
       "      <th>Jakarta Timur</th>\n",
       "      <td>151.0</td>\n",
       "    </tr>\n",
       "    <tr>\n",
       "      <th>Jakarta Utara</th>\n",
       "      <td>88.0</td>\n",
       "    </tr>\n",
       "    <tr>\n",
       "      <th>Kepulauan Seribu</th>\n",
       "      <td>4.0</td>\n",
       "    </tr>\n",
       "  </tbody>\n",
       "</table>\n",
       "</div>"
      ],
      "text/plain": [
       "                  Total Sample\n",
       "Kabupaten/Kota                \n",
       "Jakarta Barat            121.0\n",
       "Jakarta Pusat             52.0\n",
       "Jakarta Selatan          110.0\n",
       "Jakarta Timur            151.0\n",
       "Jakarta Utara             88.0\n",
       "Kepulauan Seribu           4.0"
      ]
     },
     "execution_count": 278,
     "metadata": {},
     "output_type": "execute_result"
    }
   ],
   "source": [
    "#Menghitung Clutering Tahap ke 3 untuk tiap kecamatan\n",
    "sample_kota = rancang_sampling.groupby([\"Kabupaten/Kota\"]).sum()\n",
    "sample_kota"
   ]
  },
  {
   "cell_type": "code",
   "execution_count": 298,
   "id": "41a5ddea",
   "metadata": {},
   "outputs": [
    {
     "data": {
      "text/plain": [
       "[4.0, 110.0, 151.0, 52.0, 121.0, 88.0]"
      ]
     },
     "execution_count": 298,
     "metadata": {},
     "output_type": "execute_result"
    }
   ],
   "source": [
    "#Menghitung nilai M masing-masing kota\n",
    "M_sample_ks = sample_kota.iloc[5][0]\n",
    "M_sample_js = sample_kota.iloc[2][0]\n",
    "M_sample_jt = sample_kota.iloc[3][0]\n",
    "M_sample_jp = sample_kota.iloc[1][0]\n",
    "M_sample_jb = sample_kota.iloc[0][0]\n",
    "M_sample_ju = sample_kota.iloc[4][0]\n",
    "M_sample_kec = [M_sample_ks, M_sample_js, M_sample_jt, M_sample_jp, M_sample_jb, M_sample_ju]\n",
    "M_sample_kec"
   ]
  },
  {
   "cell_type": "code",
   "execution_count": 299,
   "id": "8c05c864",
   "metadata": {},
   "outputs": [],
   "source": [
    "#Menghitung nilai N masing-masing kota\n",
    "prior_2021_kec[\"M Kecamatan\"] = M_sample_kec"
   ]
  },
  {
   "cell_type": "code",
   "execution_count": 300,
   "id": "0cf344b8",
   "metadata": {},
   "outputs": [
    {
     "data": {
      "text/html": [
       "<div>\n",
       "<style scoped>\n",
       "    .dataframe tbody tr th:only-of-type {\n",
       "        vertical-align: middle;\n",
       "    }\n",
       "\n",
       "    .dataframe tbody tr th {\n",
       "        vertical-align: top;\n",
       "    }\n",
       "\n",
       "    .dataframe thead th {\n",
       "        text-align: right;\n",
       "    }\n",
       "</style>\n",
       "<table border=\"1\" class=\"dataframe\">\n",
       "  <thead>\n",
       "    <tr style=\"text-align: right;\">\n",
       "      <th></th>\n",
       "      <th>Kabupaten/Kota</th>\n",
       "      <th>Jumlah Kecamatan</th>\n",
       "      <th>M Kecamatan</th>\n",
       "    </tr>\n",
       "  </thead>\n",
       "  <tbody>\n",
       "    <tr>\n",
       "      <th>0</th>\n",
       "      <td>Kepulauan Seribu</td>\n",
       "      <td>2</td>\n",
       "      <td>4.0</td>\n",
       "    </tr>\n",
       "    <tr>\n",
       "      <th>1</th>\n",
       "      <td>Jakarta Selatan</td>\n",
       "      <td>10</td>\n",
       "      <td>110.0</td>\n",
       "    </tr>\n",
       "    <tr>\n",
       "      <th>2</th>\n",
       "      <td>Jakarta Timur</td>\n",
       "      <td>10</td>\n",
       "      <td>151.0</td>\n",
       "    </tr>\n",
       "    <tr>\n",
       "      <th>3</th>\n",
       "      <td>Jakarta Pusat</td>\n",
       "      <td>8</td>\n",
       "      <td>52.0</td>\n",
       "    </tr>\n",
       "    <tr>\n",
       "      <th>4</th>\n",
       "      <td>Jakarta Barat</td>\n",
       "      <td>8</td>\n",
       "      <td>121.0</td>\n",
       "    </tr>\n",
       "    <tr>\n",
       "      <th>5</th>\n",
       "      <td>Jakarta Utara</td>\n",
       "      <td>6</td>\n",
       "      <td>88.0</td>\n",
       "    </tr>\n",
       "  </tbody>\n",
       "</table>\n",
       "</div>"
      ],
      "text/plain": [
       "     Kabupaten/Kota  Jumlah Kecamatan  M Kecamatan\n",
       "0  Kepulauan Seribu                 2          4.0\n",
       "1   Jakarta Selatan                10        110.0\n",
       "2     Jakarta Timur                10        151.0\n",
       "3     Jakarta Pusat                 8         52.0\n",
       "4     Jakarta Barat                 8        121.0\n",
       "5     Jakarta Utara                 6         88.0"
      ]
     },
     "execution_count": 300,
     "metadata": {},
     "output_type": "execute_result"
    }
   ],
   "source": [
    "prior_2021_kec"
   ]
  },
  {
   "cell_type": "code",
   "execution_count": 301,
   "id": "64788ec5",
   "metadata": {},
   "outputs": [],
   "source": [
    "#Asumsi nilai dari B\n",
    "B = 15_000_000"
   ]
  },
  {
   "cell_type": "code",
   "execution_count": 302,
   "id": "6fbe91f3",
   "metadata": {},
   "outputs": [],
   "source": [
    "rev_kota_2021[\"y\"] =  rev_kota_2021[\"Rata-rata\"][0:6]*prior_2021_kec[\"M Kecamatan\"]"
   ]
  },
  {
   "cell_type": "code",
   "execution_count": 307,
   "id": "a63bcd0f",
   "metadata": {},
   "outputs": [],
   "source": [
    "rev_kota_2021[\"miu x m\"] = rev_dki_2021*prior_2021_kec[\"M Kecamatan\"]"
   ]
  },
  {
   "cell_type": "code",
   "execution_count": 310,
   "id": "b5f8ca0d",
   "metadata": {},
   "outputs": [
    {
     "name": "stderr",
     "output_type": "stream",
     "text": [
      "C:\\Users\\Axel\\AppData\\Local\\Temp/ipykernel_12568/312452894.py:1: SettingWithCopyWarning: \n",
      "A value is trying to be set on a copy of a slice from a DataFrame\n",
      "\n",
      "See the caveats in the documentation: https://pandas.pydata.org/pandas-docs/stable/user_guide/indexing.html#returning-a-view-versus-a-copy\n",
      "  rev_kota_2021[\"y\"][6] = 0\n",
      "C:\\Users\\Axel\\AppData\\Local\\Temp/ipykernel_12568/312452894.py:2: SettingWithCopyWarning: \n",
      "A value is trying to be set on a copy of a slice from a DataFrame\n",
      "\n",
      "See the caveats in the documentation: https://pandas.pydata.org/pandas-docs/stable/user_guide/indexing.html#returning-a-view-versus-a-copy\n",
      "  rev_kota_2021[\"miu x m\"][6] = 0\n"
     ]
    }
   ],
   "source": []
  },
  {
   "cell_type": "code",
   "execution_count": 322,
   "id": "74caa88a",
   "metadata": {
    "scrolled": true
   },
   "outputs": [],
   "source": [
    "rev_kota_2021[\"(y-miu x m)^2\"] = rev_kota_2021[\"y\"] - rev_kota_2021[\"miu x m\"]\n",
    "rev_kota_2021[\"(y-miu x m)^2\"] = rev_kota_2021[\"(y-miu x m)^2\"]**2"
   ]
  },
  {
   "cell_type": "code",
   "execution_count": 323,
   "id": "d88b8e84",
   "metadata": {},
   "outputs": [],
   "source": [
    "rev_kota_2021[\"sigma c\"] = rev_kota_2021[\"(y-miu x m)^2\"]/(prior_2021_kec[\"Jumlah Kecamatan\"]-1)"
   ]
  },
  {
   "cell_type": "code",
   "execution_count": 325,
   "id": "20c4ab53",
   "metadata": {},
   "outputs": [],
   "source": [
    "rev_kota_2021[\"D\"] = B**2/(4*prior_2021_kec[\"Jumlah Kecamatan\"]**2)"
   ]
  },
  {
   "cell_type": "code",
   "execution_count": 330,
   "id": "da337b19",
   "metadata": {},
   "outputs": [],
   "source": [
    "rev_kota_2021[\"n\"] = round((prior_2021_kec[\"Jumlah Kecamatan\"]*rev_kota_2021[\"sigma c\"])/(prior_2021_kec[\"Jumlah Kecamatan\"]*rev_kota_2021[\"D\"]+rev_kota_2021[\"sigma c\"]))"
   ]
  },
  {
   "cell_type": "code",
   "execution_count": 334,
   "id": "489c1b11",
   "metadata": {
    "scrolled": true
   },
   "outputs": [
    {
     "name": "stderr",
     "output_type": "stream",
     "text": [
      "C:\\Users\\Axel\\AppData\\Local\\Temp/ipykernel_12568/928198191.py:2: SettingWithCopyWarning: \n",
      "A value is trying to be set on a copy of a slice from a DataFrame\n",
      "\n",
      "See the caveats in the documentation: https://pandas.pydata.org/pandas-docs/stable/user_guide/indexing.html#returning-a-view-versus-a-copy\n",
      "  rev_kota_2021[\"y\"][6] = 0\n",
      "C:\\Users\\Axel\\AppData\\Local\\Temp/ipykernel_12568/928198191.py:3: SettingWithCopyWarning: \n",
      "A value is trying to be set on a copy of a slice from a DataFrame\n",
      "\n",
      "See the caveats in the documentation: https://pandas.pydata.org/pandas-docs/stable/user_guide/indexing.html#returning-a-view-versus-a-copy\n",
      "  rev_kota_2021[\"miu x m\"][6] = 0\n",
      "C:\\Users\\Axel\\AppData\\Local\\Temp/ipykernel_12568/928198191.py:4: SettingWithCopyWarning: \n",
      "A value is trying to be set on a copy of a slice from a DataFrame\n",
      "\n",
      "See the caveats in the documentation: https://pandas.pydata.org/pandas-docs/stable/user_guide/indexing.html#returning-a-view-versus-a-copy\n",
      "  rev_kota_2021[\"sigma c\"][6] = 0\n",
      "C:\\Users\\Axel\\AppData\\Local\\Temp/ipykernel_12568/928198191.py:5: SettingWithCopyWarning: \n",
      "A value is trying to be set on a copy of a slice from a DataFrame\n",
      "\n",
      "See the caveats in the documentation: https://pandas.pydata.org/pandas-docs/stable/user_guide/indexing.html#returning-a-view-versus-a-copy\n",
      "  rev_kota_2021[\"D\"][6] = 0\n",
      "C:\\Users\\Axel\\AppData\\Local\\Temp/ipykernel_12568/928198191.py:6: SettingWithCopyWarning: \n",
      "A value is trying to be set on a copy of a slice from a DataFrame\n",
      "\n",
      "See the caveats in the documentation: https://pandas.pydata.org/pandas-docs/stable/user_guide/indexing.html#returning-a-view-versus-a-copy\n",
      "  rev_kota_2021[\"n\"][6] = 0\n",
      "C:\\Users\\Axel\\AppData\\Local\\Temp/ipykernel_12568/928198191.py:7: SettingWithCopyWarning: \n",
      "A value is trying to be set on a copy of a slice from a DataFrame\n",
      "\n",
      "See the caveats in the documentation: https://pandas.pydata.org/pandas-docs/stable/user_guide/indexing.html#returning-a-view-versus-a-copy\n",
      "  rev_kota_2021[\"n\"][0] = 1\n"
     ]
    }
   ],
   "source": [
    "#Adjustment pada nilai n Kepulauan Seribu\n",
    "rev_kota_2021[\"y\"][6] = 0\n",
    "rev_kota_2021[\"miu x m\"][6] = 0\n",
    "rev_kota_2021[\"sigma c\"][6] = 0\n",
    "rev_kota_2021[\"D\"][6] = 0\n",
    "rev_kota_2021[\"n\"][6] = 0\n",
    "rev_kota_2021[\"n\"][0] = 1"
   ]
  },
  {
   "cell_type": "code",
   "execution_count": 340,
   "id": "9d618c06",
   "metadata": {},
   "outputs": [
    {
     "data": {
      "text/html": [
       "<div>\n",
       "<style scoped>\n",
       "    .dataframe tbody tr th:only-of-type {\n",
       "        vertical-align: middle;\n",
       "    }\n",
       "\n",
       "    .dataframe tbody tr th {\n",
       "        vertical-align: top;\n",
       "    }\n",
       "\n",
       "    .dataframe thead th {\n",
       "        text-align: right;\n",
       "    }\n",
       "</style>\n",
       "<table border=\"1\" class=\"dataframe\">\n",
       "  <thead>\n",
       "    <tr style=\"text-align: right;\">\n",
       "      <th></th>\n",
       "      <th>Kabupaten/Kota</th>\n",
       "      <th>Rata-rata</th>\n",
       "      <th>Variance</th>\n",
       "      <th>y</th>\n",
       "      <th>miu x m</th>\n",
       "      <th>(y-miu x m)^2</th>\n",
       "      <th>sigma c</th>\n",
       "      <th>D</th>\n",
       "      <th>n</th>\n",
       "    </tr>\n",
       "  </thead>\n",
       "  <tbody>\n",
       "    <tr>\n",
       "      <th>0</th>\n",
       "      <td>Kepulauan Seribu</td>\n",
       "      <td>1938617.40</td>\n",
       "      <td>5.030132e+11</td>\n",
       "      <td>7.754470e+06</td>\n",
       "      <td>1.059141e+07</td>\n",
       "      <td>8.048211e+12</td>\n",
       "      <td>8.048211e+12</td>\n",
       "      <td>1.406250e+13</td>\n",
       "      <td>1.0</td>\n",
       "    </tr>\n",
       "    <tr>\n",
       "      <th>1</th>\n",
       "      <td>Jakarta Selatan</td>\n",
       "      <td>2575959.43</td>\n",
       "      <td>5.168486e+09</td>\n",
       "      <td>2.833555e+08</td>\n",
       "      <td>2.912637e+08</td>\n",
       "      <td>6.253868e+13</td>\n",
       "      <td>6.948742e+12</td>\n",
       "      <td>5.625000e+11</td>\n",
       "      <td>6.0</td>\n",
       "    </tr>\n",
       "    <tr>\n",
       "      <th>2</th>\n",
       "      <td>Jakarta Timur</td>\n",
       "      <td>2530202.31</td>\n",
       "      <td>1.384136e+10</td>\n",
       "      <td>3.820605e+08</td>\n",
       "      <td>3.998256e+08</td>\n",
       "      <td>3.155968e+14</td>\n",
       "      <td>3.506631e+13</td>\n",
       "      <td>5.625000e+11</td>\n",
       "      <td>9.0</td>\n",
       "    </tr>\n",
       "    <tr>\n",
       "      <th>3</th>\n",
       "      <td>Jakarta Pusat</td>\n",
       "      <td>2593224.37</td>\n",
       "      <td>2.984135e+09</td>\n",
       "      <td>1.348477e+08</td>\n",
       "      <td>1.376883e+08</td>\n",
       "      <td>8.069102e+12</td>\n",
       "      <td>1.152729e+12</td>\n",
       "      <td>8.789062e+11</td>\n",
       "      <td>1.0</td>\n",
       "    </tr>\n",
       "    <tr>\n",
       "      <th>4</th>\n",
       "      <td>Jakarta Barat</td>\n",
       "      <td>2711186.59</td>\n",
       "      <td>4.011320e+09</td>\n",
       "      <td>3.280536e+08</td>\n",
       "      <td>3.203900e+08</td>\n",
       "      <td>5.872973e+13</td>\n",
       "      <td>8.389962e+12</td>\n",
       "      <td>8.789062e+11</td>\n",
       "      <td>4.0</td>\n",
       "    </tr>\n",
       "    <tr>\n",
       "      <th>5</th>\n",
       "      <td>Jakarta Utara</td>\n",
       "      <td>2849107.24</td>\n",
       "      <td>4.050383e+10</td>\n",
       "      <td>2.507214e+08</td>\n",
       "      <td>2.330109e+08</td>\n",
       "      <td>3.136616e+14</td>\n",
       "      <td>6.273233e+13</td>\n",
       "      <td>1.562500e+12</td>\n",
       "      <td>5.0</td>\n",
       "    </tr>\n",
       "    <tr>\n",
       "      <th>6</th>\n",
       "      <td>DKI Jakarta</td>\n",
       "      <td>2647851.61</td>\n",
       "      <td>0.000000e+00</td>\n",
       "      <td>0.000000e+00</td>\n",
       "      <td>0.000000e+00</td>\n",
       "      <td>0.000000e+00</td>\n",
       "      <td>0.000000e+00</td>\n",
       "      <td>0.000000e+00</td>\n",
       "      <td>0.0</td>\n",
       "    </tr>\n",
       "  </tbody>\n",
       "</table>\n",
       "</div>"
      ],
      "text/plain": [
       "     Kabupaten/Kota   Rata-rata      Variance             y       miu x m  \\\n",
       "0  Kepulauan Seribu  1938617.40  5.030132e+11  7.754470e+06  1.059141e+07   \n",
       "1   Jakarta Selatan  2575959.43  5.168486e+09  2.833555e+08  2.912637e+08   \n",
       "2     Jakarta Timur  2530202.31  1.384136e+10  3.820605e+08  3.998256e+08   \n",
       "3     Jakarta Pusat  2593224.37  2.984135e+09  1.348477e+08  1.376883e+08   \n",
       "4     Jakarta Barat  2711186.59  4.011320e+09  3.280536e+08  3.203900e+08   \n",
       "5     Jakarta Utara  2849107.24  4.050383e+10  2.507214e+08  2.330109e+08   \n",
       "6       DKI Jakarta  2647851.61  0.000000e+00  0.000000e+00  0.000000e+00   \n",
       "\n",
       "   (y-miu x m)^2       sigma c             D    n  \n",
       "0   8.048211e+12  8.048211e+12  1.406250e+13  1.0  \n",
       "1   6.253868e+13  6.948742e+12  5.625000e+11  6.0  \n",
       "2   3.155968e+14  3.506631e+13  5.625000e+11  9.0  \n",
       "3   8.069102e+12  1.152729e+12  8.789062e+11  1.0  \n",
       "4   5.872973e+13  8.389962e+12  8.789062e+11  4.0  \n",
       "5   3.136616e+14  6.273233e+13  1.562500e+12  5.0  \n",
       "6   0.000000e+00  0.000000e+00  0.000000e+00  0.0  "
      ]
     },
     "execution_count": 340,
     "metadata": {},
     "output_type": "execute_result"
    }
   ],
   "source": [
    "rev_kota_2021"
   ]
  },
  {
   "cell_type": "markdown",
   "id": "7fe5a9bb",
   "metadata": {},
   "source": [
    "#### Tahap 4 : Pengambilan sample dengan SRS"
   ]
  },
  {
   "cell_type": "markdown",
   "id": "1c03bfca",
   "metadata": {},
   "source": [
    "Berikut merupakan hasil dari rekapitulasi untuk rancang sampling dengan pembagian disesuaikan dengan rancangan sampling dan perhitungan diatas"
   ]
  },
  {
   "cell_type": "code",
   "execution_count": 348,
   "id": "7268b07f",
   "metadata": {},
   "outputs": [],
   "source": [
    "rancang_sampling[\"Total Kecamatan yang disampling\"] = rev_kota_2021[\"n\"][0:6]"
   ]
  },
  {
   "cell_type": "code",
   "execution_count": 350,
   "id": "f86b11e0",
   "metadata": {},
   "outputs": [
    {
     "name": "stderr",
     "output_type": "stream",
     "text": [
      "C:\\Users\\Axel\\AppData\\Local\\Temp/ipykernel_12568/2313187709.py:1: SettingWithCopyWarning: \n",
      "A value is trying to be set on a copy of a slice from a DataFrame\n",
      "\n",
      "See the caveats in the documentation: https://pandas.pydata.org/pandas-docs/stable/user_guide/indexing.html#returning-a-view-versus-a-copy\n",
      "  rancang_sampling[\"Total Kecamatan yang disampling\"][6:12] = rev_kota_2021[\"n\"][0:6]\n"
     ]
    }
   ],
   "source": [
    "rancang_sampling[\"Total Kecamatan yang disampling\"][6:12] = rev_kota_2021[\"n\"][0:6]"
   ]
  },
  {
   "cell_type": "code",
   "execution_count": 352,
   "id": "4cf060e9",
   "metadata": {},
   "outputs": [
    {
     "name": "stderr",
     "output_type": "stream",
     "text": [
      "C:\\Users\\Axel\\AppData\\Local\\Temp/ipykernel_12568/1802204556.py:1: SettingWithCopyWarning: \n",
      "A value is trying to be set on a copy of a slice from a DataFrame\n",
      "\n",
      "See the caveats in the documentation: https://pandas.pydata.org/pandas-docs/stable/user_guide/indexing.html#returning-a-view-versus-a-copy\n",
      "  rancang_sampling[\"Total Kecamatan yang disampling\"][12:18] = rev_kota_2021[\"n\"][0:6]\n"
     ]
    }
   ],
   "source": [
    "rancang_sampling[\"Total Kecamatan yang disampling\"][12:18] = rev_kota_2021[\"n\"][0:6]"
   ]
  },
  {
   "cell_type": "code",
   "execution_count": 354,
   "id": "19a995ad",
   "metadata": {
    "scrolled": false
   },
   "outputs": [
    {
     "name": "stderr",
     "output_type": "stream",
     "text": [
      "C:\\Users\\Axel\\AppData\\Local\\Temp/ipykernel_12568/3088770707.py:1: SettingWithCopyWarning: \n",
      "A value is trying to be set on a copy of a slice from a DataFrame\n",
      "\n",
      "See the caveats in the documentation: https://pandas.pydata.org/pandas-docs/stable/user_guide/indexing.html#returning-a-view-versus-a-copy\n",
      "  rancang_sampling[\"Total Kecamatan yang disampling\"][18:24] = rev_kota_2021[\"n\"][0:6]\n"
     ]
    }
   ],
   "source": [
    "rancang_sampling[\"Total Kecamatan yang disampling\"][18:24] = rev_kota_2021[\"n\"][0:6]"
   ]
  },
  {
   "cell_type": "code",
   "execution_count": 357,
   "id": "8ff4ce14",
   "metadata": {},
   "outputs": [
    {
     "data": {
      "text/html": [
       "<div>\n",
       "<style scoped>\n",
       "    .dataframe tbody tr th:only-of-type {\n",
       "        vertical-align: middle;\n",
       "    }\n",
       "\n",
       "    .dataframe tbody tr th {\n",
       "        vertical-align: top;\n",
       "    }\n",
       "\n",
       "    .dataframe thead th {\n",
       "        text-align: right;\n",
       "    }\n",
       "</style>\n",
       "<table border=\"1\" class=\"dataframe\">\n",
       "  <thead>\n",
       "    <tr style=\"text-align: right;\">\n",
       "      <th></th>\n",
       "      <th>Strata Pendidikan</th>\n",
       "      <th>Kabupaten/Kota</th>\n",
       "      <th>Total Sample</th>\n",
       "      <th>Total Kecamatan yang disampling</th>\n",
       "    </tr>\n",
       "  </thead>\n",
       "  <tbody>\n",
       "    <tr>\n",
       "      <th>0</th>\n",
       "      <td>Tidak Sekolah</td>\n",
       "      <td>Kepulauan Seribu</td>\n",
       "      <td>1.0</td>\n",
       "      <td>1.0</td>\n",
       "    </tr>\n",
       "    <tr>\n",
       "      <th>1</th>\n",
       "      <td>Tidak Sekolah</td>\n",
       "      <td>Jakarta Selatan</td>\n",
       "      <td>12.0</td>\n",
       "      <td>6.0</td>\n",
       "    </tr>\n",
       "    <tr>\n",
       "      <th>2</th>\n",
       "      <td>Tidak Sekolah</td>\n",
       "      <td>Jakarta Timur</td>\n",
       "      <td>16.0</td>\n",
       "      <td>9.0</td>\n",
       "    </tr>\n",
       "    <tr>\n",
       "      <th>3</th>\n",
       "      <td>Tidak Sekolah</td>\n",
       "      <td>Jakarta Pusat</td>\n",
       "      <td>5.0</td>\n",
       "      <td>1.0</td>\n",
       "    </tr>\n",
       "    <tr>\n",
       "      <th>4</th>\n",
       "      <td>Tidak Sekolah</td>\n",
       "      <td>Jakarta Barat</td>\n",
       "      <td>13.0</td>\n",
       "      <td>4.0</td>\n",
       "    </tr>\n",
       "    <tr>\n",
       "      <th>5</th>\n",
       "      <td>Tidak Sekolah</td>\n",
       "      <td>Jakarta Utara</td>\n",
       "      <td>9.0</td>\n",
       "      <td>5.0</td>\n",
       "    </tr>\n",
       "    <tr>\n",
       "      <th>6</th>\n",
       "      <td>SD / MI</td>\n",
       "      <td>Kepulauan Seribu</td>\n",
       "      <td>1.0</td>\n",
       "      <td>1.0</td>\n",
       "    </tr>\n",
       "    <tr>\n",
       "      <th>7</th>\n",
       "      <td>SD / MI</td>\n",
       "      <td>Jakarta Selatan</td>\n",
       "      <td>15.0</td>\n",
       "      <td>6.0</td>\n",
       "    </tr>\n",
       "    <tr>\n",
       "      <th>8</th>\n",
       "      <td>SD / MI</td>\n",
       "      <td>Jakarta Timur</td>\n",
       "      <td>20.0</td>\n",
       "      <td>9.0</td>\n",
       "    </tr>\n",
       "    <tr>\n",
       "      <th>9</th>\n",
       "      <td>SD / MI</td>\n",
       "      <td>Jakarta Pusat</td>\n",
       "      <td>7.0</td>\n",
       "      <td>1.0</td>\n",
       "    </tr>\n",
       "    <tr>\n",
       "      <th>10</th>\n",
       "      <td>SD / MI</td>\n",
       "      <td>Jakarta Barat</td>\n",
       "      <td>16.0</td>\n",
       "      <td>4.0</td>\n",
       "    </tr>\n",
       "    <tr>\n",
       "      <th>11</th>\n",
       "      <td>SD / MI</td>\n",
       "      <td>Jakarta Utara</td>\n",
       "      <td>12.0</td>\n",
       "      <td>5.0</td>\n",
       "    </tr>\n",
       "    <tr>\n",
       "      <th>12</th>\n",
       "      <td>SMP / Mts</td>\n",
       "      <td>Kepulauan Seribu</td>\n",
       "      <td>1.0</td>\n",
       "      <td>1.0</td>\n",
       "    </tr>\n",
       "    <tr>\n",
       "      <th>13</th>\n",
       "      <td>SMP / Mts</td>\n",
       "      <td>Jakarta Selatan</td>\n",
       "      <td>6.0</td>\n",
       "      <td>6.0</td>\n",
       "    </tr>\n",
       "    <tr>\n",
       "      <th>14</th>\n",
       "      <td>SMP / Mts</td>\n",
       "      <td>Jakarta Timur</td>\n",
       "      <td>9.0</td>\n",
       "      <td>9.0</td>\n",
       "    </tr>\n",
       "    <tr>\n",
       "      <th>15</th>\n",
       "      <td>SMP / Mts</td>\n",
       "      <td>Jakarta Pusat</td>\n",
       "      <td>3.0</td>\n",
       "      <td>1.0</td>\n",
       "    </tr>\n",
       "    <tr>\n",
       "      <th>16</th>\n",
       "      <td>SMP / Mts</td>\n",
       "      <td>Jakarta Barat</td>\n",
       "      <td>7.0</td>\n",
       "      <td>4.0</td>\n",
       "    </tr>\n",
       "    <tr>\n",
       "      <th>17</th>\n",
       "      <td>SMP / Mts</td>\n",
       "      <td>Jakarta Utara</td>\n",
       "      <td>5.0</td>\n",
       "      <td>5.0</td>\n",
       "    </tr>\n",
       "    <tr>\n",
       "      <th>18</th>\n",
       "      <td>SMA ke Atas</td>\n",
       "      <td>Kepulauan Seribu</td>\n",
       "      <td>1.0</td>\n",
       "      <td>1.0</td>\n",
       "    </tr>\n",
       "    <tr>\n",
       "      <th>19</th>\n",
       "      <td>SMA ke Atas</td>\n",
       "      <td>Jakarta Selatan</td>\n",
       "      <td>77.0</td>\n",
       "      <td>6.0</td>\n",
       "    </tr>\n",
       "    <tr>\n",
       "      <th>20</th>\n",
       "      <td>SMA ke Atas</td>\n",
       "      <td>Jakarta Timur</td>\n",
       "      <td>106.0</td>\n",
       "      <td>9.0</td>\n",
       "    </tr>\n",
       "    <tr>\n",
       "      <th>21</th>\n",
       "      <td>SMA ke Atas</td>\n",
       "      <td>Jakarta Pusat</td>\n",
       "      <td>37.0</td>\n",
       "      <td>1.0</td>\n",
       "    </tr>\n",
       "    <tr>\n",
       "      <th>22</th>\n",
       "      <td>SMA ke Atas</td>\n",
       "      <td>Jakarta Barat</td>\n",
       "      <td>85.0</td>\n",
       "      <td>4.0</td>\n",
       "    </tr>\n",
       "    <tr>\n",
       "      <th>23</th>\n",
       "      <td>SMA ke Atas</td>\n",
       "      <td>Jakarta Utara</td>\n",
       "      <td>62.0</td>\n",
       "      <td>5.0</td>\n",
       "    </tr>\n",
       "  </tbody>\n",
       "</table>\n",
       "</div>"
      ],
      "text/plain": [
       "   Strata Pendidikan    Kabupaten/Kota  Total Sample  \\\n",
       "0      Tidak Sekolah  Kepulauan Seribu           1.0   \n",
       "1      Tidak Sekolah   Jakarta Selatan          12.0   \n",
       "2      Tidak Sekolah     Jakarta Timur          16.0   \n",
       "3      Tidak Sekolah     Jakarta Pusat           5.0   \n",
       "4      Tidak Sekolah     Jakarta Barat          13.0   \n",
       "5      Tidak Sekolah     Jakarta Utara           9.0   \n",
       "6            SD / MI  Kepulauan Seribu           1.0   \n",
       "7            SD / MI   Jakarta Selatan          15.0   \n",
       "8            SD / MI     Jakarta Timur          20.0   \n",
       "9            SD / MI     Jakarta Pusat           7.0   \n",
       "10           SD / MI     Jakarta Barat          16.0   \n",
       "11           SD / MI     Jakarta Utara          12.0   \n",
       "12         SMP / Mts  Kepulauan Seribu           1.0   \n",
       "13         SMP / Mts   Jakarta Selatan           6.0   \n",
       "14         SMP / Mts     Jakarta Timur           9.0   \n",
       "15         SMP / Mts     Jakarta Pusat           3.0   \n",
       "16         SMP / Mts     Jakarta Barat           7.0   \n",
       "17         SMP / Mts     Jakarta Utara           5.0   \n",
       "18       SMA ke Atas  Kepulauan Seribu           1.0   \n",
       "19       SMA ke Atas   Jakarta Selatan          77.0   \n",
       "20       SMA ke Atas     Jakarta Timur         106.0   \n",
       "21       SMA ke Atas     Jakarta Pusat          37.0   \n",
       "22       SMA ke Atas     Jakarta Barat          85.0   \n",
       "23       SMA ke Atas     Jakarta Utara          62.0   \n",
       "\n",
       "    Total Kecamatan yang disampling  \n",
       "0                               1.0  \n",
       "1                               6.0  \n",
       "2                               9.0  \n",
       "3                               1.0  \n",
       "4                               4.0  \n",
       "5                               5.0  \n",
       "6                               1.0  \n",
       "7                               6.0  \n",
       "8                               9.0  \n",
       "9                               1.0  \n",
       "10                              4.0  \n",
       "11                              5.0  \n",
       "12                              1.0  \n",
       "13                              6.0  \n",
       "14                              9.0  \n",
       "15                              1.0  \n",
       "16                              4.0  \n",
       "17                              5.0  \n",
       "18                              1.0  \n",
       "19                              6.0  \n",
       "20                              9.0  \n",
       "21                              1.0  \n",
       "22                              4.0  \n",
       "23                              5.0  "
      ]
     },
     "execution_count": 357,
     "metadata": {},
     "output_type": "execute_result"
    }
   ],
   "source": [
    "rancang_sampling"
   ]
  },
  {
   "cell_type": "code",
   "execution_count": 356,
   "id": "3e2a4cd1",
   "metadata": {},
   "outputs": [],
   "source": [
    "#berdasarkan perhtiungan dan adjusment didapatkan sample per cluster\n",
    "per_kecamatan = [[1],[2,2,2,2,2,2],[2,2,2,2,2,2,2,1,1],[5],[3,3,3,4],[2,2,2,2,1],\n",
    "                 [1],[2,2,2,3,3,3],[2,2,2,2,2,2,2,3,3],[7],[4,4,4,4],[2,2,2,3,3],\n",
    "                 [1],[1,1,1,1,1,1],[1,1,1,1,1,1,1,1,1],[3],[1,2,2,2],[1,1,1,1,1],\n",
    "                 [1],[12,13,13,13,13,13],[12,12,12,12,12,12,12,11,11],[37],[21,21,21,22],[12,12,12,13,13]]"
   ]
  },
  {
   "cell_type": "code",
   "execution_count": 359,
   "id": "a67ad045",
   "metadata": {
    "scrolled": false
   },
   "outputs": [
    {
     "data": {
      "text/html": [
       "<div>\n",
       "<style scoped>\n",
       "    .dataframe tbody tr th:only-of-type {\n",
       "        vertical-align: middle;\n",
       "    }\n",
       "\n",
       "    .dataframe tbody tr th {\n",
       "        vertical-align: top;\n",
       "    }\n",
       "\n",
       "    .dataframe thead th {\n",
       "        text-align: right;\n",
       "    }\n",
       "</style>\n",
       "<table border=\"1\" class=\"dataframe\">\n",
       "  <thead>\n",
       "    <tr style=\"text-align: right;\">\n",
       "      <th></th>\n",
       "      <th>Strata Pendidikan</th>\n",
       "      <th>Kabupaten/Kota</th>\n",
       "      <th>Total Sample</th>\n",
       "      <th>Total Kecamatan yang disampling</th>\n",
       "      <th>Pembagian per Kecamatan</th>\n",
       "    </tr>\n",
       "  </thead>\n",
       "  <tbody>\n",
       "    <tr>\n",
       "      <th>0</th>\n",
       "      <td>Tidak Sekolah</td>\n",
       "      <td>Kepulauan Seribu</td>\n",
       "      <td>1.0</td>\n",
       "      <td>1.0</td>\n",
       "      <td>[1]</td>\n",
       "    </tr>\n",
       "    <tr>\n",
       "      <th>1</th>\n",
       "      <td>Tidak Sekolah</td>\n",
       "      <td>Jakarta Selatan</td>\n",
       "      <td>12.0</td>\n",
       "      <td>6.0</td>\n",
       "      <td>[2, 2, 2, 2, 2, 2]</td>\n",
       "    </tr>\n",
       "    <tr>\n",
       "      <th>2</th>\n",
       "      <td>Tidak Sekolah</td>\n",
       "      <td>Jakarta Timur</td>\n",
       "      <td>16.0</td>\n",
       "      <td>9.0</td>\n",
       "      <td>[2, 2, 2, 2, 2, 2, 2, 1, 1]</td>\n",
       "    </tr>\n",
       "    <tr>\n",
       "      <th>3</th>\n",
       "      <td>Tidak Sekolah</td>\n",
       "      <td>Jakarta Pusat</td>\n",
       "      <td>5.0</td>\n",
       "      <td>1.0</td>\n",
       "      <td>[5]</td>\n",
       "    </tr>\n",
       "    <tr>\n",
       "      <th>4</th>\n",
       "      <td>Tidak Sekolah</td>\n",
       "      <td>Jakarta Barat</td>\n",
       "      <td>13.0</td>\n",
       "      <td>4.0</td>\n",
       "      <td>[3, 3, 3, 4]</td>\n",
       "    </tr>\n",
       "    <tr>\n",
       "      <th>5</th>\n",
       "      <td>Tidak Sekolah</td>\n",
       "      <td>Jakarta Utara</td>\n",
       "      <td>9.0</td>\n",
       "      <td>5.0</td>\n",
       "      <td>[2, 2, 2, 2, 1]</td>\n",
       "    </tr>\n",
       "    <tr>\n",
       "      <th>6</th>\n",
       "      <td>SD / MI</td>\n",
       "      <td>Kepulauan Seribu</td>\n",
       "      <td>1.0</td>\n",
       "      <td>1.0</td>\n",
       "      <td>[1]</td>\n",
       "    </tr>\n",
       "    <tr>\n",
       "      <th>7</th>\n",
       "      <td>SD / MI</td>\n",
       "      <td>Jakarta Selatan</td>\n",
       "      <td>15.0</td>\n",
       "      <td>6.0</td>\n",
       "      <td>[2, 2, 2, 3, 3, 3]</td>\n",
       "    </tr>\n",
       "    <tr>\n",
       "      <th>8</th>\n",
       "      <td>SD / MI</td>\n",
       "      <td>Jakarta Timur</td>\n",
       "      <td>20.0</td>\n",
       "      <td>9.0</td>\n",
       "      <td>[2, 2, 2, 2, 2, 2, 2, 3, 3]</td>\n",
       "    </tr>\n",
       "    <tr>\n",
       "      <th>9</th>\n",
       "      <td>SD / MI</td>\n",
       "      <td>Jakarta Pusat</td>\n",
       "      <td>7.0</td>\n",
       "      <td>1.0</td>\n",
       "      <td>[7]</td>\n",
       "    </tr>\n",
       "    <tr>\n",
       "      <th>10</th>\n",
       "      <td>SD / MI</td>\n",
       "      <td>Jakarta Barat</td>\n",
       "      <td>16.0</td>\n",
       "      <td>4.0</td>\n",
       "      <td>[4, 4, 4, 4]</td>\n",
       "    </tr>\n",
       "    <tr>\n",
       "      <th>11</th>\n",
       "      <td>SD / MI</td>\n",
       "      <td>Jakarta Utara</td>\n",
       "      <td>12.0</td>\n",
       "      <td>5.0</td>\n",
       "      <td>[2, 2, 2, 3, 3]</td>\n",
       "    </tr>\n",
       "    <tr>\n",
       "      <th>12</th>\n",
       "      <td>SMP / Mts</td>\n",
       "      <td>Kepulauan Seribu</td>\n",
       "      <td>1.0</td>\n",
       "      <td>1.0</td>\n",
       "      <td>[1]</td>\n",
       "    </tr>\n",
       "    <tr>\n",
       "      <th>13</th>\n",
       "      <td>SMP / Mts</td>\n",
       "      <td>Jakarta Selatan</td>\n",
       "      <td>6.0</td>\n",
       "      <td>6.0</td>\n",
       "      <td>[1, 1, 1, 1, 1, 1]</td>\n",
       "    </tr>\n",
       "    <tr>\n",
       "      <th>14</th>\n",
       "      <td>SMP / Mts</td>\n",
       "      <td>Jakarta Timur</td>\n",
       "      <td>9.0</td>\n",
       "      <td>9.0</td>\n",
       "      <td>[1, 1, 1, 1, 1, 1, 1, 1, 1]</td>\n",
       "    </tr>\n",
       "    <tr>\n",
       "      <th>15</th>\n",
       "      <td>SMP / Mts</td>\n",
       "      <td>Jakarta Pusat</td>\n",
       "      <td>3.0</td>\n",
       "      <td>1.0</td>\n",
       "      <td>[3]</td>\n",
       "    </tr>\n",
       "    <tr>\n",
       "      <th>16</th>\n",
       "      <td>SMP / Mts</td>\n",
       "      <td>Jakarta Barat</td>\n",
       "      <td>7.0</td>\n",
       "      <td>4.0</td>\n",
       "      <td>[1, 2, 2, 2]</td>\n",
       "    </tr>\n",
       "    <tr>\n",
       "      <th>17</th>\n",
       "      <td>SMP / Mts</td>\n",
       "      <td>Jakarta Utara</td>\n",
       "      <td>5.0</td>\n",
       "      <td>5.0</td>\n",
       "      <td>[1, 1, 1, 1, 1]</td>\n",
       "    </tr>\n",
       "    <tr>\n",
       "      <th>18</th>\n",
       "      <td>SMA ke Atas</td>\n",
       "      <td>Kepulauan Seribu</td>\n",
       "      <td>1.0</td>\n",
       "      <td>1.0</td>\n",
       "      <td>[1]</td>\n",
       "    </tr>\n",
       "    <tr>\n",
       "      <th>19</th>\n",
       "      <td>SMA ke Atas</td>\n",
       "      <td>Jakarta Selatan</td>\n",
       "      <td>77.0</td>\n",
       "      <td>6.0</td>\n",
       "      <td>[12, 13, 13, 13, 13, 13]</td>\n",
       "    </tr>\n",
       "    <tr>\n",
       "      <th>20</th>\n",
       "      <td>SMA ke Atas</td>\n",
       "      <td>Jakarta Timur</td>\n",
       "      <td>106.0</td>\n",
       "      <td>9.0</td>\n",
       "      <td>[12, 12, 12, 12, 12, 12, 12, 11, 11]</td>\n",
       "    </tr>\n",
       "    <tr>\n",
       "      <th>21</th>\n",
       "      <td>SMA ke Atas</td>\n",
       "      <td>Jakarta Pusat</td>\n",
       "      <td>37.0</td>\n",
       "      <td>1.0</td>\n",
       "      <td>[37]</td>\n",
       "    </tr>\n",
       "    <tr>\n",
       "      <th>22</th>\n",
       "      <td>SMA ke Atas</td>\n",
       "      <td>Jakarta Barat</td>\n",
       "      <td>85.0</td>\n",
       "      <td>4.0</td>\n",
       "      <td>[21, 21, 21, 22]</td>\n",
       "    </tr>\n",
       "    <tr>\n",
       "      <th>23</th>\n",
       "      <td>SMA ke Atas</td>\n",
       "      <td>Jakarta Utara</td>\n",
       "      <td>62.0</td>\n",
       "      <td>5.0</td>\n",
       "      <td>[12, 12, 12, 13, 13]</td>\n",
       "    </tr>\n",
       "  </tbody>\n",
       "</table>\n",
       "</div>"
      ],
      "text/plain": [
       "   Strata Pendidikan    Kabupaten/Kota  Total Sample  \\\n",
       "0      Tidak Sekolah  Kepulauan Seribu           1.0   \n",
       "1      Tidak Sekolah   Jakarta Selatan          12.0   \n",
       "2      Tidak Sekolah     Jakarta Timur          16.0   \n",
       "3      Tidak Sekolah     Jakarta Pusat           5.0   \n",
       "4      Tidak Sekolah     Jakarta Barat          13.0   \n",
       "5      Tidak Sekolah     Jakarta Utara           9.0   \n",
       "6            SD / MI  Kepulauan Seribu           1.0   \n",
       "7            SD / MI   Jakarta Selatan          15.0   \n",
       "8            SD / MI     Jakarta Timur          20.0   \n",
       "9            SD / MI     Jakarta Pusat           7.0   \n",
       "10           SD / MI     Jakarta Barat          16.0   \n",
       "11           SD / MI     Jakarta Utara          12.0   \n",
       "12         SMP / Mts  Kepulauan Seribu           1.0   \n",
       "13         SMP / Mts   Jakarta Selatan           6.0   \n",
       "14         SMP / Mts     Jakarta Timur           9.0   \n",
       "15         SMP / Mts     Jakarta Pusat           3.0   \n",
       "16         SMP / Mts     Jakarta Barat           7.0   \n",
       "17         SMP / Mts     Jakarta Utara           5.0   \n",
       "18       SMA ke Atas  Kepulauan Seribu           1.0   \n",
       "19       SMA ke Atas   Jakarta Selatan          77.0   \n",
       "20       SMA ke Atas     Jakarta Timur         106.0   \n",
       "21       SMA ke Atas     Jakarta Pusat          37.0   \n",
       "22       SMA ke Atas     Jakarta Barat          85.0   \n",
       "23       SMA ke Atas     Jakarta Utara          62.0   \n",
       "\n",
       "    Total Kecamatan yang disampling               Pembagian per Kecamatan  \n",
       "0                               1.0                                   [1]  \n",
       "1                               6.0                    [2, 2, 2, 2, 2, 2]  \n",
       "2                               9.0           [2, 2, 2, 2, 2, 2, 2, 1, 1]  \n",
       "3                               1.0                                   [5]  \n",
       "4                               4.0                          [3, 3, 3, 4]  \n",
       "5                               5.0                       [2, 2, 2, 2, 1]  \n",
       "6                               1.0                                   [1]  \n",
       "7                               6.0                    [2, 2, 2, 3, 3, 3]  \n",
       "8                               9.0           [2, 2, 2, 2, 2, 2, 2, 3, 3]  \n",
       "9                               1.0                                   [7]  \n",
       "10                              4.0                          [4, 4, 4, 4]  \n",
       "11                              5.0                       [2, 2, 2, 3, 3]  \n",
       "12                              1.0                                   [1]  \n",
       "13                              6.0                    [1, 1, 1, 1, 1, 1]  \n",
       "14                              9.0           [1, 1, 1, 1, 1, 1, 1, 1, 1]  \n",
       "15                              1.0                                   [3]  \n",
       "16                              4.0                          [1, 2, 2, 2]  \n",
       "17                              5.0                       [1, 1, 1, 1, 1]  \n",
       "18                              1.0                                   [1]  \n",
       "19                              6.0              [12, 13, 13, 13, 13, 13]  \n",
       "20                              9.0  [12, 12, 12, 12, 12, 12, 12, 11, 11]  \n",
       "21                              1.0                                  [37]  \n",
       "22                              4.0                      [21, 21, 21, 22]  \n",
       "23                              5.0                  [12, 12, 12, 13, 13]  "
      ]
     },
     "execution_count": 359,
     "metadata": {},
     "output_type": "execute_result"
    }
   ],
   "source": [
    "rancang_sampling[\"Pembagian per Kecamatan\"] = per_kecamatan\n",
    "rancang_sampling"
   ]
  },
  {
   "cell_type": "markdown",
   "id": "51390e13",
   "metadata": {},
   "source": [
    "Tabel diatas merupakan output akhir terhadap rancang sampling yang akan dilaksanakan. Masing-masing kecamatan terplot berdasarkan pergitungan kebutuhan sample"
   ]
  },
  {
   "cell_type": "markdown",
   "id": "6eb382f5",
   "metadata": {},
   "source": [
    "### G.  Estimasi Kebutuhan Jumlah Sample"
   ]
  },
  {
   "cell_type": "markdown",
   "id": "3288735c",
   "metadata": {},
   "source": [
    "Metode yang digunakan untuk pengumpulan data adalah menggunakan telepon atau menggunakan online messenger. Metode pengumpulan data melalui sampling dengan telepon adalah salah satu cara untuk mengumpulkan data melalui telepon. Ini adalah metode populer untuk melakukan survei dan penelitian pasar, karena relatif lebih murah dan lebih cepat daripada metode lain seperti wawancara langsung atau pengiriman kuesioner.\n",
    "\n",
    "Untuk menggunakan metode ini, pertama-tama harus dibuat daftar sampel yang akan ditelpon. Sampel ini dapat diambil secara acak dari populasi yang ingin diteliti. Setelah itu, surveyor atau interviewer akan menelpon setiap nomor telepon dalam sampel tersebut dan mengajukan serangkaian pertanyaan yang diperlukan untuk mengumpulkan data.\n",
    "\n",
    "Beberapa hal yang perlu diperhatikan dalam metode ini adalah:\n",
    "1.\tValiditas sampel: pastikan bahwa sampel yang diambil benar-benar mewakili populasi yang ingin diteliti.\n",
    "2.\tKemampuan interviewer: interviewer harus memiliki kemampuan yang baik dalam mengelola wawancara telepon dan memastikan bahwa jawaban dari responden valid dan akurat.\n",
    "3.\tBiaya: meskipun relatif lebih murah daripada metode lain, biaya masih bisa menjadi faktor yang signifikan tergantung pada jumlah sampel yang ingin diteliti.\n",
    "4.\tResponden tidak tersedia: beberapa responden mungkin tidak tersedia atau tidak bersedia untuk berpartisipasi dalam wawancara telepon.\n",
    "5.\tKeabsahan jawaban: jawaban yang diberikan oleh responden mungkin kurang akurat karena mereka mungkin tidak ingin membuka diri atau kurang nyaman dengan wawancara melalui telepon.\n",
    "\n",
    "Meskipun memiliki beberapa keterbatasan, metode pengumpulan data melalui sampling dengan telepon tetap menjadi pilihan yang populer karena kemudahannya dan biaya yang lebih rendah. Berdasarkan analisis sampling tersebut dapat dilakukan karena menurut Survei Sosial Ekonomi Nasional (Susenas) yang dilakukan oleh Badan Pusat Statistik (BPS) pada bulan Maret 2019 penggunaan smartphone telah mencapai 84,32% di DKI Jakarta. Dengan telepon dan online messenger, dilakukan wawancara oleh surveyor terkait data umum seperti NIK, Nama, Alamat, Jumlah Keluarga Tertanggung, Nama Pekerjaan, dan Pendapatan Bulanan.\n"
   ]
  },
  {
   "cell_type": "markdown",
   "id": "b7fb9772",
   "metadata": {},
   "source": [
    "### H.\tMetode Estimasi Parameter"
   ]
  },
  {
   "cell_type": "markdown",
   "id": "99377494",
   "metadata": {},
   "source": [
    "Setelah dilakukan sampling berdasarkan rencana yang telah dipaparkan diatas, data hasil sampling tersebut dapat digunakan untuk melakukan estimasi dari populasi tingkat pendapatan dari pekerja informal di DKI Jakarta. Adapun parameter yang dilakukan inferensi adalah total, mean, dan varians.\n",
    "\n",
    "Untuk rumusan lebih lengkap sudah tertera pada link medium berikut : \n",
    "\n",
    "https://medium.com/@axelivandatanjung/sampling-tingkat-pendapatan-pekerja-informal-di-dki-jakarta-pada-tahun-2023-372ec3cfe1d7"
   ]
  },
  {
   "cell_type": "markdown",
   "id": "16fbeaaa",
   "metadata": {},
   "source": [
    "### I.\tAnalisa"
   ]
  },
  {
   "cell_type": "markdown",
   "id": "1c1079f1",
   "metadata": {},
   "source": [
    "Berdasarkan hasil dari rancang sampling diatas, dapat disimpulkan bahwa:\n",
    "\n",
    "1.\tPrior knowledge sangat dibutuhkan dalam proses perancangan sampling untuk mempermudah dalam memberikan asumsi nilai terhadap parameter dalam sampling\n",
    "2.\tBerdasarkan hasil dari rancang sampling, digunakan multistage sampling dengan stratifikasi pertama menggunakan tingkat Pendidikan, stratifikasi kedua terkait kabupaten/kota, cluster sampling pada tingkat kecamatan, dan simple random sampling pada tingkat paling bawah\n",
    "3.\tBerdasarkan perhitungan rancang sampling, diperlukan setidaknya 526 sample untuk mendapatkan gambaran statistic terkait tingkat pendapatkan pekerja informal di DKI Jakarta dimana total sample tersebut tergolong masuk akal\n",
    "4.\tBiaya yang dikeluarkan untuk melaksanakan sampling ini adalah Rp. 105.600.000 yang terdiri dari fixed cost sebesar Rp. 5.000.000 dan biaya sampling tingkat PSU dan SSU sebesar Rp. 100.000 per sample dimana nilai tersebut masih tergolong affordable untuk instansi pemerintahan dalam kebutuhan survey. Biaya per survey tersebut masih merupakan asumsi “worst case” dimana biaya tersebut masih dapat dikurangi hingga 70-80%\n",
    "5.\tUntuk melaksanakan sampling ini, digunakan metode telepon dan online messenger untuk menayakan besaran pendapatan peserta survey tiap bulannya. Sehingga penggunaan sumber daya dan pengalokasian surveyor akan lebih fleksibel.\n",
    "\n",
    "Keunggulan dari rancang sampling yang dilakukan adalah:\n",
    "\n",
    "1.\tStratifikasi sampling yang jelas sehingga dapat dilakukan inferensi juga terhadap masing-masing kabupaten/kota di DKI Jakarta\n",
    "2.\tMulti stage sampling relative lebih murah dan efisien dibandingkan dengan SRS karena target populasi yang besar dan tersebar dari segi geografi\n",
    "3.\tMetode ini tergolong fleksibel dalam menggunakan metode sampling apapun\n",
    "\n",
    "Kelemahan dari rancang sampling yang dilakukan adalah:\n",
    "\n",
    "1.\tDibandingkan dengan SRS, diperlukan sample size lebih besar pada sample multi-stage untuk memperoleh statistical inference yang sama\n",
    "2.\tPemilihan metode sampling terbaik di setiap stage subyektif, sehingga perlu alasan yang jelas untuk menghindari pengambilan keputusan yang bias\n",
    "3.\tDapat menyebabkan sample tidak representative karena sebagian besar populasi mungkin tidak terpilih dalam pengambilan populasi, berpotensi mengarah ke bias undercoverage dan bias seleksi\n",
    "\n"
   ]
  },
  {
   "cell_type": "markdown",
   "id": "fbb0d6e0",
   "metadata": {},
   "source": [
    "### J.\tKesimpulan"
   ]
  },
  {
   "cell_type": "markdown",
   "id": "adbc7bb4",
   "metadata": {},
   "source": [
    "1.\tUntuk melakukan sampling tingkat pendapatan pekerja infomal di DKI Jakarta pada tahun 2023, diperlukan sample sebesar 526 orang yang di stratifikasi berdasarkan tingkat Pendidikan dan kota tempat tinggalnya (Multi Stage Sampling)\n",
    "2.\tBiaya yang dikeluakan untuk melakukan sampling ini adalah Rp. 105.600.000 dan masih dapat dilakukan optimasi lagi\n",
    "3.\tSampling ini dilakukan menggunakan metode telepon atau online massager\n",
    "4.\tKeuntungan menggunakan metode ini adalah lebih murah dan efisien untuk target populasi yang tersebar secara geografis\n",
    "5.\tKekurangan dari metode ini adalah diperlukan sample size yang besar, dan terdapat potensi bias akibat sample yang tidak representatif\n"
   ]
  },
  {
   "cell_type": "markdown",
   "id": "51831ba1",
   "metadata": {},
   "source": [
    "### K.\tReferensi"
   ]
  },
  {
   "cell_type": "markdown",
   "id": "39511656",
   "metadata": {},
   "source": [
    "https://jakarta.bps.go.id/publication/2022/02/25/5979600247867d861a1f334c/provinsi-dki-jakarta-dalam-angka-2022.html"
   ]
  },
  {
   "cell_type": "code",
   "execution_count": null,
   "id": "2b3fcdb9",
   "metadata": {},
   "outputs": [],
   "source": []
  }
 ],
 "metadata": {
  "kernelspec": {
   "display_name": "Python 3 (ipykernel)",
   "language": "python",
   "name": "python3"
  },
  "language_info": {
   "codemirror_mode": {
    "name": "ipython",
    "version": 3
   },
   "file_extension": ".py",
   "mimetype": "text/x-python",
   "name": "python",
   "nbconvert_exporter": "python",
   "pygments_lexer": "ipython3",
   "version": "3.9.7"
  }
 },
 "nbformat": 4,
 "nbformat_minor": 5
}
